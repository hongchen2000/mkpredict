{
 "cells": [
  {
   "cell_type": "code",
   "execution_count": 22,
   "metadata": {
    "collapsed": false,
    "scrolled": true
   },
   "outputs": [],
   "source": [
    "import pandas as pd\n",
    "import numpy as np\n",
    "import matplotlib.pyplot as plt\n",
    "\n",
    "from pandas.io import data, wb\n",
    "import datetime\n",
    "import os.path\n",
    "import math\n"
   ]
  },
  {
   "cell_type": "code",
   "execution_count": 23,
   "metadata": {
    "collapsed": false
   },
   "outputs": [],
   "source": [
    "df_train = pd.read_csv('data/spy-ohlc.csv', index_col='Date', parse_dates=True)\n",
    "df_dividends = pd.read_csv('data/spy-dividends.csv', index_col='Date', parse_dates=True)\n",
    "df_train = df_train.join(df_dividends)\n",
    "df_train['dividend'].fillna(0, inplace=True)"
   ]
  },
  {
   "cell_type": "code",
   "execution_count": 24,
   "metadata": {
    "collapsed": false
   },
   "outputs": [],
   "source": [
    "#df_train['Close'].pct_change().hist(bins=100)\n",
    "#plt.show()"
   ]
  },
  {
   "cell_type": "code",
   "execution_count": 25,
   "metadata": {
    "collapsed": false
   },
   "outputs": [],
   "source": [
    "pma10 = df_train['Close'].rolling(window=10,center=False).mean() + df_train['dividend'].rolling(window=10, center=False).mean()\n",
    "pma20 = df_train['Close'].rolling(window=20,center=False).mean()+ df_train['dividend'].rolling(window=20, center=False).mean()\n",
    "pma50 = df_train['Close'].rolling(window=50,center=False).mean()+ df_train['dividend'].rolling(window=50, center=False).mean()\n",
    "pma200 = df_train['Close'].rolling(window=200,center=False).mean()+ df_train['dividend'].rolling(window=200, center=False).mean()\n",
    "vma50 = df_train['Volume'].rolling(window=50, center=False).mean()\n",
    "\n"
   ]
  },
  {
   "cell_type": "code",
   "execution_count": 26,
   "metadata": {
    "collapsed": false
   },
   "outputs": [],
   "source": [
    "#distance from MAs\n",
    "diffma10  = (df_train['Close']/pma10 -1)*100\n",
    "diffma20 = (df_train['Close']/pma20 -1)*100\n",
    "diffma50 = (df_train['Close']/pma50 -1)*100\n",
    "diffma200 = (df_train['Close']/pma200 -1)*100\n",
    "\n",
    "#tangential of ma lines\n",
    "pma10tan = (pma10[1:]/pma10[:-1].values-1)*100\n",
    "pma20tan = (pma20[1:]/pma20[:-1].values-1)*100\n",
    "pma50tan = (pma50[1:]/pma50[:-1].values-1)*100\n",
    "pma200tan = (pma200[1:]/pma200[:-1].values-1)*100\n",
    "\n",
    "#sequence of higher high/higher low\n",
    "hhx1 = df_train['High'][1:] + df_train['dividend'][1:] > df_train['High'][:-1] \n",
    "hlx1 = df_train['Low'][1:] + df_train['dividend'][1:] > df_train['Low'][:-1] \n",
    "hhx2 = hhx1.shift(1)\n",
    "hhx3 = hhx1.shift(2)\n",
    "hlx2 = hlx1.shift(1)\n",
    "hlx3 = hlx1.shift(2)\n",
    "\n",
    "#rolling average of hh and hl\n",
    "hh10 = hhx1.rolling(window=10, center=False).mean()\n",
    "hl10 = hhx1.rolling(window=10, center=False).mean()\n",
    "\n",
    "nvx1 = df_train['Volume']/vma50\n"
   ]
  },
  {
   "cell_type": "code",
   "execution_count": 27,
   "metadata": {
    "collapsed": false,
    "scrolled": true
   },
   "outputs": [],
   "source": [
    "#add features for training data\n",
    "\n",
    "#distance from MAs\n",
    "df_train = df_train.assign(diffma10=diffma10)\n",
    "df_train = df_train.assign(diffma20=diffma20)\n",
    "df_train = df_train.assign(diffma50=diffma50)\n",
    "df_train = df_train.assign(diffma200=diffma200)\n",
    "\n",
    "#tangential of ma lines\n",
    "df_train = df_train.assign(pma10tan=pma10tan)\n",
    "df_train = df_train.assign(pma20tan=pma20tan)\n",
    "df_train = df_train.assign(pma50tan=pma50tan)\n",
    "df_train = df_train.assign(pma200tan=pma200tan)\n",
    "\n",
    "df_train = df_train.assign(hhx1=hhx1)\n",
    "df_train = df_train.assign(hhx2=hhx2)\n",
    "df_train = df_train.assign(hhx3=hhx3)\n",
    "\n",
    "df_train = df_train.assign(hlx1=hlx1)\n",
    "df_train = df_train.assign(hlx2=hlx2)\n",
    "df_train = df_train.assign(hlx3=hlx3)\n",
    "\n",
    "df_train = df_train.assign(hh10=hh10)\n",
    "df_train = df_train.assign(hl10=hl10)\n",
    "\n",
    "#last day volume\n",
    "df_train = df_train.assign(nvx1=nvx1)"
   ]
  },
  {
   "cell_type": "code",
   "execution_count": 28,
   "metadata": {
    "collapsed": false
   },
   "outputs": [],
   "source": [
    "#df_train.to_csv(\"data/spy-train.csv\")\n",
    "remove = ['Open','High','Low','Close','Volume','Adj Close','dividend']\n",
    "df_train = df_train.drop(remove, axis=1)"
   ]
  },
  {
   "cell_type": "code",
   "execution_count": 29,
   "metadata": {
    "collapsed": false,
    "scrolled": false
   },
   "outputs": [],
   "source": [
    "#df_train.describe()\n",
    "#df_train.corr()"
   ]
  },
  {
   "cell_type": "code",
   "execution_count": 44,
   "metadata": {
    "collapsed": false
   },
   "outputs": [],
   "source": [
    "def predict(X_train, y_train, X_test):  \n",
    "    from sklearn.cross_validation import train_test_split\n",
    "    from sklearn import cross_validation\n",
    "    from sklearn.linear_model import LogisticRegression\n",
    "    from sklearn.ensemble import RandomForestClassifier, GradientBoostingClassifier\n",
    "    from sklearn.neighbors import KNeighborsClassifier\n",
    "    from sklearn.svm import SVC\n",
    "\n",
    "\n",
    "    #model = LogisticRegression(random_state=1)\n",
    "    \n",
    "    #model = RandomForestClassifier(n_estimators=350)\n",
    "    model = GradientBoostingClassifier(n_estimators=100)\n",
    "    #best so far\n",
    "    #model = KNeighborsClassifier(n_neighbors=15)\n",
    "    \n",
    "    \n",
    "    from sklearn import metrics\n",
    "    \n",
    "    #y_eval_comp = y_eval_pred[:,1] > 0.55\n",
    "    #numpy.count_nonzero(y_eval_comp)\n",
    "    \n",
    "    #print(\"recall:\", metrics.recall_score(y_eval, y_eval_comp, average='binary'))\n",
    "    #print(\"precision:\", metrics.precision_score(y_eval, y_eval_comp, average='binary'))\n",
    "    #print(\"f1 score:\", metrics.f1_score(y_eval, y_eval_comp, average='binary'))\n",
    "    \n",
    "    scores = cross_validation.cross_val_score(model, X_train, y_train, cv=5, scoring='precision')\n",
    "    print(\"Precision score: %0.2f (+/- %0.2f)\" % (scores.mean(), scores.std()))\n",
    "    \n",
    "    model.fit(X_train, y_train)\n",
    "    #print(X_test)\n",
    "    y_test_pred = model.predict_proba(X_test);\n",
    "    return y_test_pred\n",
    "\n"
   ]
  },
  {
   "cell_type": "code",
   "execution_count": 45,
   "metadata": {
    "collapsed": false,
    "scrolled": true
   },
   "outputs": [
    {
     "name": "stdout",
     "output_type": "stream",
     "text": [
      "5625\n"
     ]
    }
   ],
   "source": [
    "X_train = df_train.values[200:-10, :]\n",
    "X_test = df_train.values[-10:,:]\n",
    "print(len(X_train))\n",
    "\n"
   ]
  },
  {
   "cell_type": "code",
   "execution_count": 54,
   "metadata": {
    "collapsed": false
   },
   "outputs": [
    {
     "name": "stdout",
     "output_type": "stream",
     "text": [
      "5834 5834\n",
      "5625\n",
      "predict hh:(vs actual)\n",
      "Precision score: 0.60 (+/- 0.01)\n",
      "[ True  True  True False False  True  True  True False]\n",
      "[ True  True  True False False  True  True  True  True False]\n",
      "prob of higher high === 0.469986023622\n",
      "\n",
      "predict hl:(vs actual)\n",
      "Precision score: 0.60 (+/- 0.02)\n",
      "[ True False False False False  True False  True False]\n",
      "[ True  True False False False  True  True False False False]\n",
      "prob of higher low === 0.438397978941\n"
     ]
    }
   ],
   "source": [
    "#for hh, shift one position back to get future value for hh\n",
    "#print(hh.shift(-1).tail())\n",
    "print(len(hhx1), len(hhx1.shift(-1)))\n",
    "y_train = df_train['hhx1'].shift(-1).values[200:-10].astype(bool)\n",
    "print(len(y_train))\n",
    "print(\"predict hh:(vs actual)\")\n",
    "y_test_pred = predict(X_train, y_train, X_test)\n",
    "print(df_train['hhx1'].values[-9:].astype(bool))\n",
    "print(y_test_pred[:, 1]>0.5)\n",
    "print(\"prob of higher high ===\", y_test_pred[-1,1])\n",
    "\n",
    "#for hl\n",
    "print(\"\\npredict hl:(vs actual)\")\n",
    "y_train = df_train['hlx1'].shift(-1).values[200:-10].astype(bool)\n",
    "y_test_pred = predict(X_train, y_train, X_test)\n",
    "print(df_train['hlx1'].values[-9:].astype(bool))\n",
    "print(y_test_pred[:, 1]>0.5)\n",
    "print(\"prob of higher low ===\", y_test_pred[-1,1])\n",
    "\n"
   ]
  },
  {
   "cell_type": "code",
   "execution_count": null,
   "metadata": {
    "collapsed": true
   },
   "outputs": [],
   "source": []
  },
  {
   "cell_type": "code",
   "execution_count": 33,
   "metadata": {
    "collapsed": false
   },
   "outputs": [],
   "source": [
    "def e_predict(X_train, y_train, X_test):\n",
    "    from sklearn import cross_validation\n",
    "    from sklearn.linear_model import LogisticRegression\n",
    "    from sklearn.naive_bayes import GaussianNB\n",
    "    from sklearn.ensemble import RandomForestClassifier, GradientBoostingClassifier\n",
    "    from sklearn.neighbors import KNeighborsClassifier\n",
    "    from sklearn.ensemble import VotingClassifier\n",
    "\n",
    "    clf1 = LogisticRegression(random_state=1)\n",
    "    clf2 = RandomForestClassifier(n_estimators=350)\n",
    "    clf3 = GaussianNB()\n",
    "    clf4 = GradientBoostingClassifier(n_estimators=100)\n",
    "    clf5 = KNeighborsClassifier(n_neighbors=15)\n",
    "    \n",
    "    eclf = VotingClassifier(estimators=[('lr', clf1), ('rf', clf2), ('gnb', clf3), \n",
    "                                        ('gb', clf4), ('knn',clf5)], voting='soft')\n",
    "\n",
    "    for clf in [clf1, clf2, clf3, clf4, clf5, eclf]: \n",
    "        print(type(clf).__name__, \"\\n\")\n",
    "        scores = cross_validation.cross_val_score(clf, X_train, y_train, cv=5, scoring='precision')\n",
    "        print(\"Score: %0.2f (+/- %0.2f)\" % (scores.mean(), scores.std()))\n",
    "        clf.fit(X_train, y_train)\n",
    "        y_test_pred = clf.predict_proba(X_test);\n",
    "        return y_test_pred\n"
   ]
  },
  {
   "cell_type": "code",
   "execution_count": null,
   "metadata": {
    "collapsed": true
   },
   "outputs": [],
   "source": []
  }
 ],
 "metadata": {
  "kernelspec": {
   "display_name": "Python 3",
   "language": "python",
   "name": "python3"
  },
  "language_info": {
   "codemirror_mode": {
    "name": "ipython",
    "version": 3
   },
   "file_extension": ".py",
   "mimetype": "text/x-python",
   "name": "python",
   "nbconvert_exporter": "python",
   "pygments_lexer": "ipython3",
   "version": "3.5.1"
  }
 },
 "nbformat": 4,
 "nbformat_minor": 0
}
