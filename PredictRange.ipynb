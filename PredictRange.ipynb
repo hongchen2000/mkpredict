{
 "cells": [
  {
   "cell_type": "code",
   "execution_count": 64,
   "metadata": {
    "collapsed": false,
    "scrolled": false
   },
   "outputs": [],
   "source": [
    "from pandas.io import data, wb\n",
    "import datetime\n",
    "import os.path\n",
    "import os\n",
    "import math\n",
    "import pandas as pd\n",
    "import numpy\n",
    "\n",
    "\n"
   ]
  },
  {
   "cell_type": "code",
   "execution_count": 65,
   "metadata": {
    "collapsed": false
   },
   "outputs": [],
   "source": [
    "df_train = pd.read_csv('data/spy-ohlc.csv', index_col='Date', parse_dates=True)\n",
    "if (not os.path.isfile('data/spy-ohlc.csv')):\n",
    "    os.mknod('data/spy-ohlc.csv')\n",
    "df_dividends = pd.read_csv('data/spy-dividends.csv', index_col='Date', parse_dates=True)\n",
    "df_train = df_train.join(df_dividends)\n",
    "df_train['dividend'].fillna(0, inplace=True)"
   ]
  },
  {
   "cell_type": "code",
   "execution_count": 66,
   "metadata": {
    "collapsed": false
   },
   "outputs": [],
   "source": [
    "pma10 = df_train['Close'].rolling(window=10,center=False).mean() + df_train['dividend'].rolling(window=10, center=False).mean()\n",
    "pma50 = df_train['Close'].rolling(window=50,center=False).mean()+ df_train['dividend'].rolling(window=50, center=False).mean()\n",
    "vma50 = df_train['Volume'].rolling(window=50, center=False).mean()\n",
    "\n"
   ]
  },
  {
   "cell_type": "code",
   "execution_count": 67,
   "metadata": {
    "collapsed": false
   },
   "outputs": [],
   "source": [
    "#distance from MAs\n",
    "diffma10  = (df_train['Close']/pma10 -1)*100\n",
    "diffma50 = (df_train['Close']/pma50 -1)*100\n",
    "\n",
    "#tangential of ma lines\n",
    "#pma10tan = (pma10[1:]/pma10[:-1].values-1)*100\n",
    "#pma50tan = (pma50[1:]/pma50[:-1].values-1)*100\n",
    "\n",
    "#sequence of higher high/higher low\n",
    "rangex1 = (df_train['High']/df_train['Low']-1)*100\n",
    "rangex2 = rangex1.shift(1)\n",
    "rangex3 = rangex1.shift(2)\n",
    "rangex4 = rangex1.shift(3)\n",
    "rangex5 = rangex1.shift(4)\n",
    "\n",
    "#rolling average of hh and hl\n",
    "rangema10 = rangex1.rolling(window=10, center=False).mean()\n",
    "\n",
    "nvx1 = df_train['Volume']/vma50\n"
   ]
  },
  {
   "cell_type": "code",
   "execution_count": 68,
   "metadata": {
    "collapsed": false,
    "scrolled": true
   },
   "outputs": [],
   "source": [
    "#add features for training data\n",
    "\n",
    "#distance from MAs\n",
    "df_train = df_train.assign(diffma10=diffma10)\n",
    "df_train = df_train.assign(diffma50=diffma50)\n",
    "\n",
    "#tangential of ma lines\n",
    "#df_train = df_train.assign(pma10tan=pma10tan)\n",
    "#df_train = df_train.assign(pma20tan=pma20tan)\n",
    "#df_train = df_train.assign(pma50tan=pma50tan)\n",
    "#df_train = df_train.assign(pma200tan=pma200tan)\n",
    "\n",
    "df_train = df_train.assign(rangex1=rangex1)\n",
    "df_train = df_train.assign(rangex2=rangex2)\n",
    "df_train = df_train.assign(rangex3=rangex3)\n",
    "df_train = df_train.assign(rangex4=rangex4)\n",
    "df_train = df_train.assign(rangex5=rangex5)\n",
    "\n",
    "df_train = df_train.assign(rangema10=rangema10)\n",
    "\n",
    "\n",
    "#last day volume\n",
    "df_train = df_train.assign(nvx1=nvx1)"
   ]
  },
  {
   "cell_type": "code",
   "execution_count": 69,
   "metadata": {
    "collapsed": false
   },
   "outputs": [],
   "source": [
    "df_train.to_csv(\"data/spy-train.csv\")\n",
    "\n",
    "remove = ['Open','High','Low','Close','Volume','Adj Close','dividend']\n",
    "df_train = df_train.drop(remove, axis=1)"
   ]
  },
  {
   "cell_type": "code",
   "execution_count": 70,
   "metadata": {
    "collapsed": false
   },
   "outputs": [],
   "source": [
    "def predict(X_train, y_train, X_test):  \n",
    "    from sklearn.cross_validation import train_test_split\n",
    "    from sklearn import cross_validation\n",
    "    from sklearn.linear_model import LogisticRegression\n",
    "    from sklearn.ensemble import RandomForestRegressor\n",
    "    from sklearn.neighbors import KNeighborsClassifier\n",
    "    from sklearn.svm import SVC\n",
    "\n",
    "\n",
    "    #model = LogisticRegression(random_state=1)\n",
    "    \n",
    "    model = RandomForestRegressor(n_estimators=50)\n",
    "    #model = GradientBoostingClassifier(n_estimators=100)\n",
    "    #best so far\n",
    "    #model = KNeighborsClassifier(n_neighbors=15)\n",
    "    \n",
    "    \n",
    "    from sklearn import metrics\n",
    "    \n",
    "    #y_eval_comp = y_eval_pred[:,1] > 0.55\n",
    "    #numpy.count_nonzero(y_eval_comp)\n",
    "    \n",
    "    #print(\"recall:\", metrics.recall_score(y_eval, y_eval_comp, average='binary'))\n",
    "    #print(\"precision:\", metrics.precision_score(y_eval, y_eval_comp, average='binary'))\n",
    "    #print(\"f1 score:\", metrics.f1_score(y_eval, y_eval_comp, average='binary'))\n",
    "    \n",
    "    scores = cross_validation.cross_val_score(model, X_train, y_train, cv=5,scoring='median_absolute_error')\n",
    "    print(\"score: %0.2f (+/- %0.2f)\" % (scores.mean(), scores.std()))\n",
    "    \n",
    "    model.fit(X_train, y_train)\n",
    "    y_test_pred = model.predict(X_test);\n",
    "    print(y_test_pred)\n",
    "    return\n",
    "\n"
   ]
  },
  {
   "cell_type": "code",
   "execution_count": 58,
   "metadata": {
    "collapsed": false,
    "scrolled": true
   },
   "outputs": [
    {
     "data": {
      "text/html": [
       "<div>\n",
       "<table border=\"1\" class=\"dataframe\">\n",
       "  <thead>\n",
       "    <tr style=\"text-align: right;\">\n",
       "      <th></th>\n",
       "      <th>diffma10</th>\n",
       "      <th>diffma50</th>\n",
       "      <th>rangex1</th>\n",
       "      <th>rangex2</th>\n",
       "      <th>rangex3</th>\n",
       "      <th>rangex4</th>\n",
       "      <th>rangex5</th>\n",
       "      <th>rangema10</th>\n",
       "      <th>nvx1</th>\n",
       "    </tr>\n",
       "  </thead>\n",
       "  <tbody>\n",
       "    <tr>\n",
       "      <th>count</th>\n",
       "      <td>5824.000000</td>\n",
       "      <td>5784.000000</td>\n",
       "      <td>5833.000000</td>\n",
       "      <td>5832.000000</td>\n",
       "      <td>5831.000000</td>\n",
       "      <td>5830.000000</td>\n",
       "      <td>5829.000000</td>\n",
       "      <td>5824.000000</td>\n",
       "      <td>5784.000000</td>\n",
       "    </tr>\n",
       "    <tr>\n",
       "      <th>mean</th>\n",
       "      <td>0.115908</td>\n",
       "      <td>0.661207</td>\n",
       "      <td>1.373216</td>\n",
       "      <td>1.373210</td>\n",
       "      <td>1.373348</td>\n",
       "      <td>1.373463</td>\n",
       "      <td>1.373587</td>\n",
       "      <td>1.374129</td>\n",
       "      <td>1.040135</td>\n",
       "    </tr>\n",
       "    <tr>\n",
       "      <th>std</th>\n",
       "      <td>1.775738</td>\n",
       "      <td>3.929484</td>\n",
       "      <td>1.040859</td>\n",
       "      <td>1.040948</td>\n",
       "      <td>1.040984</td>\n",
       "      <td>1.041036</td>\n",
       "      <td>1.041082</td>\n",
       "      <td>0.828040</td>\n",
       "      <td>0.529433</td>\n",
       "    </tr>\n",
       "    <tr>\n",
       "      <th>min</th>\n",
       "      <td>-15.974173</td>\n",
       "      <td>-27.180044</td>\n",
       "      <td>0.133601</td>\n",
       "      <td>0.133601</td>\n",
       "      <td>0.133601</td>\n",
       "      <td>0.133601</td>\n",
       "      <td>0.133601</td>\n",
       "      <td>0.395508</td>\n",
       "      <td>0.015866</td>\n",
       "    </tr>\n",
       "    <tr>\n",
       "      <th>25%</th>\n",
       "      <td>-0.752197</td>\n",
       "      <td>-1.173311</td>\n",
       "      <td>0.738036</td>\n",
       "      <td>0.738025</td>\n",
       "      <td>0.738122</td>\n",
       "      <td>0.738371</td>\n",
       "      <td>0.738859</td>\n",
       "      <td>0.838070</td>\n",
       "      <td>0.739618</td>\n",
       "    </tr>\n",
       "    <tr>\n",
       "      <th>50%</th>\n",
       "      <td>0.301936</td>\n",
       "      <td>1.139629</td>\n",
       "      <td>1.116308</td>\n",
       "      <td>1.116042</td>\n",
       "      <td>1.116308</td>\n",
       "      <td>1.116359</td>\n",
       "      <td>1.116410</td>\n",
       "      <td>1.161549</td>\n",
       "      <td>0.944151</td>\n",
       "    </tr>\n",
       "    <tr>\n",
       "      <th>75%</th>\n",
       "      <td>1.144987</td>\n",
       "      <td>3.132692</td>\n",
       "      <td>1.677041</td>\n",
       "      <td>1.677071</td>\n",
       "      <td>1.677101</td>\n",
       "      <td>1.677131</td>\n",
       "      <td>1.677162</td>\n",
       "      <td>1.655136</td>\n",
       "      <td>1.224181</td>\n",
       "    </tr>\n",
       "    <tr>\n",
       "      <th>max</th>\n",
       "      <td>8.571041</td>\n",
       "      <td>14.114149</td>\n",
       "      <td>12.673709</td>\n",
       "      <td>12.673709</td>\n",
       "      <td>12.673709</td>\n",
       "      <td>12.673709</td>\n",
       "      <td>12.673709</td>\n",
       "      <td>9.151972</td>\n",
       "      <td>12.385631</td>\n",
       "    </tr>\n",
       "  </tbody>\n",
       "</table>\n",
       "</div>"
      ],
      "text/plain": [
       "          diffma10     diffma50      rangex1      rangex2      rangex3  \\\n",
       "count  5824.000000  5784.000000  5833.000000  5832.000000  5831.000000   \n",
       "mean      0.115908     0.661207     1.373216     1.373210     1.373348   \n",
       "std       1.775738     3.929484     1.040859     1.040948     1.040984   \n",
       "min     -15.974173   -27.180044     0.133601     0.133601     0.133601   \n",
       "25%      -0.752197    -1.173311     0.738036     0.738025     0.738122   \n",
       "50%       0.301936     1.139629     1.116308     1.116042     1.116308   \n",
       "75%       1.144987     3.132692     1.677041     1.677071     1.677101   \n",
       "max       8.571041    14.114149    12.673709    12.673709    12.673709   \n",
       "\n",
       "           rangex4      rangex5    rangema10         nvx1  \n",
       "count  5830.000000  5829.000000  5824.000000  5784.000000  \n",
       "mean      1.373463     1.373587     1.374129     1.040135  \n",
       "std       1.041036     1.041082     0.828040     0.529433  \n",
       "min       0.133601     0.133601     0.395508     0.015866  \n",
       "25%       0.738371     0.738859     0.838070     0.739618  \n",
       "50%       1.116359     1.116410     1.161549     0.944151  \n",
       "75%       1.677131     1.677162     1.655136     1.224181  \n",
       "max      12.673709    12.673709     9.151972    12.385631  "
      ]
     },
     "execution_count": 58,
     "metadata": {},
     "output_type": "execute_result"
    }
   ],
   "source": [
    "df_train.describe()"
   ]
  },
  {
   "cell_type": "code",
   "execution_count": 72,
   "metadata": {
    "collapsed": false,
    "scrolled": true
   },
   "outputs": [
    {
     "name": "stdout",
     "output_type": "stream",
     "text": [
      "(5623, 9) (10, 9)\n",
      "(5833,) (5833,)\n",
      "5623\n",
      "Precision score: -0.35 (+/- 0.06)\n",
      "[ 1.27513086  1.08066643  0.998271    1.1219203   1.28301797  1.10809284\n",
      "  1.25848412  0.95562453  0.95432348  0.83956533]\n"
     ]
    }
   ],
   "source": [
    "X_train = df_train.values[200:-10, :]\n",
    "X_test = df_train.values[-10:, :]\n",
    "print(X_train.shape, X_test.shape)\n",
    "print(rangex1.shape, rangex1.shift(-1).shape)\n",
    "y_train = rangex1.shift(-1).values[200:-10]\n",
    "print(len(y_train))\n",
    "predict(X_train, y_train, X_test)\n"
   ]
  },
  {
   "cell_type": "code",
   "execution_count": 167,
   "metadata": {
    "collapsed": false
   },
   "outputs": [],
   "source": [
    "def e_predict(X_train, y_train, X_test):\n",
    "    from sklearn import cross_validation\n",
    "    from sklearn.linear_model import LogisticRegression\n",
    "    from sklearn.naive_bayes import GaussianNB\n",
    "    from sklearn.ensemble import RandomForestClassifier, GradientBoostingClassifier\n",
    "    from sklearn.neighbors import KNeighborsClassifier\n",
    "    from sklearn.ensemble import VotingClassifier\n",
    "\n",
    "    clf1 = LogisticRegression(random_state=1)\n",
    "    clf2 = RandomForestClassifier(n_estimators=350)\n",
    "    clf3 = GaussianNB()\n",
    "    clf4 = GradientBoostingClassifier(n_estimators=100)\n",
    "    clf5 = KNeighborsClassifier(n_neighbors=15)\n",
    "    \n",
    "    eclf = VotingClassifier(estimators=[('lr', clf1), ('rf', clf2), ('gnb', clf3), \n",
    "                                        ('gb', clf4), ('knn',clf5)], voting='soft')\n",
    "\n",
    "    for clf in [clf1, clf2, clf3, clf4, clf5, eclf]: \n",
    "        print(type(clf).__name__, \"\\n\")\n",
    "        scores = cross_validation.cross_val_score(clf, X_train, y_train, cv=5, scoring='precision')\n",
    "        print(\"Score: %0.2f (+/- %0.2f)\" % (scores.mean(), scores.std()))\n",
    "        clf.fit(X_train, y_train)\n",
    "        y_test_pred = clf.predict_proba(X_test);\n",
    "        print(y_test_pred)\n"
   ]
  },
  {
   "cell_type": "code",
   "execution_count": 152,
   "metadata": {
    "collapsed": false
   },
   "outputs": [
    {
     "name": "stdout",
     "output_type": "stream",
     "text": [
      "LogisticRegression\n"
     ]
    }
   ],
   "source": [
    "from sklearn.linear_model import LogisticRegression\n",
    "clf1 = LogisticRegression(random_state=1)\n",
    "na = type(clf1).__name__\n",
    "print(na)\n",
    "    "
   ]
  }
 ],
 "metadata": {
  "kernelspec": {
   "display_name": "Python 3",
   "language": "python",
   "name": "python3"
  },
  "language_info": {
   "codemirror_mode": {
    "name": "ipython",
    "version": 3
   },
   "file_extension": ".py",
   "mimetype": "text/x-python",
   "name": "python",
   "nbconvert_exporter": "python",
   "pygments_lexer": "ipython3",
   "version": "3.5.1"
  }
 },
 "nbformat": 4,
 "nbformat_minor": 0
}
