{
 "cells": [
  {
   "cell_type": "code",
   "execution_count": 39,
   "metadata": {
    "collapsed": false,
    "scrolled": true
   },
   "outputs": [],
   "source": [
    "import pandas as pd\n",
    "import numpy as np\n",
    "\n",
    "from pandas.io import data, wb\n",
    "import datetime\n",
    "import os.path\n",
    "import math\n"
   ]
  },
  {
   "cell_type": "code",
   "execution_count": 40,
   "metadata": {
    "collapsed": false
   },
   "outputs": [],
   "source": [
    "df_train = pd.read_csv('data/spy-ohlc.csv', index_col='Date', parse_dates=True)\n",
    "df_dividends = pd.read_csv('data/spy-dividends.csv', index_col='Date', parse_dates=True)\n",
    "df_train = df_train.join(df_dividends)\n",
    "df_train['dividend'].fillna(0, inplace=True)"
   ]
  },
  {
   "cell_type": "code",
   "execution_count": 41,
   "metadata": {
    "collapsed": false
   },
   "outputs": [],
   "source": [
    "pma10 = df_train['Close'].rolling(window=10,center=False).mean() + df_train['dividend'].rolling(window=10, center=False).mean()\n",
    "pma20 = df_train['Close'].rolling(window=20,center=False).mean()+ df_train['dividend'].rolling(window=20, center=False).mean()\n",
    "pma50 = df_train['Close'].rolling(window=50,center=False).mean()+ df_train['dividend'].rolling(window=50, center=False).mean()\n",
    "pma200 = df_train['Close'].rolling(window=200,center=False).mean()+ df_train['dividend'].rolling(window=200, center=False).mean()\n",
    "vma50 = df_train['Volume'].rolling(window=50, center=False).mean()\n",
    "\n"
   ]
  },
  {
   "cell_type": "code",
   "execution_count": 42,
   "metadata": {
    "collapsed": false
   },
   "outputs": [],
   "source": [
    "#distance from MAs\n",
    "diffma10  = (df_train['Close']/pma10 -1)*100\n",
    "diffma20 = (df_train['Close']/pma20 -1)*100\n",
    "diffma50 = (df_train['Close']/pma50 -1)*100\n",
    "diffma200 = (df_train['Close']/pma200 -1)*100\n",
    "\n",
    "#tangential of ma lines\n",
    "pma10tan = (pma10[1:]/pma10[:-1].values-1)*100\n",
    "pma20tan = (pma20[1:]/pma20[:-1].values-1)*100\n",
    "pma50tan = (pma50[1:]/pma50[:-1].values-1)*100\n",
    "pma200tan = (pma200[1:]/pma200[:-1].values-1)*100\n",
    "\n",
    "#sequence of higher high/higher low\n",
    "hhx1 = df_train['High'][1:] + df_train['dividend'][1:] > df_train['High'][:-1] \n",
    "hlx1 = df_train['Low'][1:] + df_train['dividend'][1:] > df_train['Low'][:-1] \n",
    "hhx2 = hhx1.shift(1)\n",
    "hhx3 = hhx1.shift(2)\n",
    "hlx2 = hlx1.shift(1)\n",
    "hlx3 = hlx1.shift(2)\n",
    "\n",
    "#rolling average of hh and hl\n",
    "hh10 = hhx1.rolling(window=10, center=False).mean()\n",
    "hl10 = hhx1.rolling(window=10, center=False).mean()\n",
    "\n",
    "nvx1 = df_train['Volume']/vma50\n"
   ]
  },
  {
   "cell_type": "code",
   "execution_count": 43,
   "metadata": {
    "collapsed": false,
    "scrolled": true
   },
   "outputs": [],
   "source": [
    "#add features for training data\n",
    "\n",
    "#distance from MAs\n",
    "df_train = df_train.assign(diffma10=diffma10)\n",
    "df_train = df_train.assign(diffma20=diffma20)\n",
    "df_train = df_train.assign(diffma50=diffma50)\n",
    "df_train = df_train.assign(diffma200=diffma200)\n",
    "\n",
    "#tangential of ma lines\n",
    "df_train = df_train.assign(pma10tan=pma10tan)\n",
    "df_train = df_train.assign(pma20tan=pma20tan)\n",
    "df_train = df_train.assign(pma50tan=pma50tan)\n",
    "df_train = df_train.assign(pma200tan=pma200tan)\n",
    "\n",
    "df_train = df_train.assign(hhx1=hhx1)\n",
    "df_train = df_train.assign(hhx2=hhx2)\n",
    "df_train = df_train.assign(hhx3=hhx3)\n",
    "\n",
    "df_train = df_train.assign(hlx1=hlx1)\n",
    "df_train = df_train.assign(hlx2=hlx2)\n",
    "df_train = df_train.assign(hlx3=hlx3)\n",
    "\n",
    "df_train = df_train.assign(hh10=hh10)\n",
    "df_train = df_train.assign(hl10=hl10)\n",
    "\n",
    "#last day volume\n",
    "df_train = df_train.assign(nvx1=nvx1)"
   ]
  },
  {
   "cell_type": "code",
   "execution_count": 44,
   "metadata": {
    "collapsed": false
   },
   "outputs": [],
   "source": [
    "df_train.to_csv(\"data/spy-train.csv\")\n",
    "remove = ['Open','High','Low','Close','Volume','Adj Close','dividend']\n",
    "df_train = df_train.drop(remove, axis=1)"
   ]
  },
  {
   "cell_type": "code",
   "execution_count": 45,
   "metadata": {
    "collapsed": false,
    "scrolled": true
   },
   "outputs": [
    {
     "data": {
      "text/html": [
       "<div>\n",
       "<table border=\"1\" class=\"dataframe\">\n",
       "  <thead>\n",
       "    <tr style=\"text-align: right;\">\n",
       "      <th></th>\n",
       "      <th>diffma10</th>\n",
       "      <th>diffma20</th>\n",
       "      <th>diffma50</th>\n",
       "      <th>diffma200</th>\n",
       "      <th>pma10tan</th>\n",
       "      <th>pma20tan</th>\n",
       "      <th>pma50tan</th>\n",
       "      <th>pma200tan</th>\n",
       "      <th>hh10</th>\n",
       "      <th>hl10</th>\n",
       "      <th>nvx1</th>\n",
       "    </tr>\n",
       "  </thead>\n",
       "  <tbody>\n",
       "    <tr>\n",
       "      <th>count</th>\n",
       "      <td>5825.000000</td>\n",
       "      <td>5815.000000</td>\n",
       "      <td>5785.000000</td>\n",
       "      <td>5635.000000</td>\n",
       "      <td>5824.000000</td>\n",
       "      <td>5814.000000</td>\n",
       "      <td>5784.000000</td>\n",
       "      <td>5634.000000</td>\n",
       "      <td>5824.000000</td>\n",
       "      <td>5824.000000</td>\n",
       "      <td>5785.000000</td>\n",
       "    </tr>\n",
       "    <tr>\n",
       "      <th>mean</th>\n",
       "      <td>0.116030</td>\n",
       "      <td>0.256415</td>\n",
       "      <td>0.662056</td>\n",
       "      <td>2.818822</td>\n",
       "      <td>0.026637</td>\n",
       "      <td>0.026396</td>\n",
       "      <td>0.025582</td>\n",
       "      <td>0.026579</td>\n",
       "      <td>0.536075</td>\n",
       "      <td>0.536075</td>\n",
       "      <td>1.040060</td>\n",
       "    </tr>\n",
       "    <tr>\n",
       "      <th>std</th>\n",
       "      <td>1.775610</td>\n",
       "      <td>2.505772</td>\n",
       "      <td>3.929675</td>\n",
       "      <td>8.415483</td>\n",
       "      <td>0.322917</td>\n",
       "      <td>0.224390</td>\n",
       "      <td>0.138288</td>\n",
       "      <td>0.076736</td>\n",
       "      <td>0.162091</td>\n",
       "      <td>0.162091</td>\n",
       "      <td>0.529418</td>\n",
       "    </tr>\n",
       "    <tr>\n",
       "      <th>min</th>\n",
       "      <td>-15.974173</td>\n",
       "      <td>-21.374952</td>\n",
       "      <td>-27.180044</td>\n",
       "      <td>-39.537778</td>\n",
       "      <td>-2.996952</td>\n",
       "      <td>-1.671173</td>\n",
       "      <td>-0.983992</td>\n",
       "      <td>-0.346558</td>\n",
       "      <td>0.000000</td>\n",
       "      <td>0.000000</td>\n",
       "      <td>0.015866</td>\n",
       "    </tr>\n",
       "    <tr>\n",
       "      <th>25%</th>\n",
       "      <td>-0.752111</td>\n",
       "      <td>-0.948978</td>\n",
       "      <td>-1.173019</td>\n",
       "      <td>-1.027956</td>\n",
       "      <td>-0.130952</td>\n",
       "      <td>-0.086768</td>\n",
       "      <td>-0.033540</td>\n",
       "      <td>-0.002142</td>\n",
       "      <td>0.400000</td>\n",
       "      <td>0.400000</td>\n",
       "      <td>0.739572</td>\n",
       "    </tr>\n",
       "    <tr>\n",
       "      <th>50%</th>\n",
       "      <td>0.302137</td>\n",
       "      <td>0.577251</td>\n",
       "      <td>1.140054</td>\n",
       "      <td>4.101910</td>\n",
       "      <td>0.053302</td>\n",
       "      <td>0.052864</td>\n",
       "      <td>0.040958</td>\n",
       "      <td>0.041414</td>\n",
       "      <td>0.500000</td>\n",
       "      <td>0.500000</td>\n",
       "      <td>0.944072</td>\n",
       "    </tr>\n",
       "    <tr>\n",
       "      <th>75%</th>\n",
       "      <td>1.144593</td>\n",
       "      <td>1.763555</td>\n",
       "      <td>3.132791</td>\n",
       "      <td>8.490068</td>\n",
       "      <td>0.208046</td>\n",
       "      <td>0.160401</td>\n",
       "      <td>0.109845</td>\n",
       "      <td>0.075769</td>\n",
       "      <td>0.600000</td>\n",
       "      <td>0.600000</td>\n",
       "      <td>1.224154</td>\n",
       "    </tr>\n",
       "    <tr>\n",
       "      <th>max</th>\n",
       "      <td>8.571041</td>\n",
       "      <td>10.362980</td>\n",
       "      <td>14.114149</td>\n",
       "      <td>20.452184</td>\n",
       "      <td>1.869639</td>\n",
       "      <td>0.986241</td>\n",
       "      <td>0.549137</td>\n",
       "      <td>0.222489</td>\n",
       "      <td>1.000000</td>\n",
       "      <td>1.000000</td>\n",
       "      <td>12.385631</td>\n",
       "    </tr>\n",
       "  </tbody>\n",
       "</table>\n",
       "</div>"
      ],
      "text/plain": [
       "          diffma10     diffma20     diffma50    diffma200     pma10tan  \\\n",
       "count  5825.000000  5815.000000  5785.000000  5635.000000  5824.000000   \n",
       "mean      0.116030     0.256415     0.662056     2.818822     0.026637   \n",
       "std       1.775610     2.505772     3.929675     8.415483     0.322917   \n",
       "min     -15.974173   -21.374952   -27.180044   -39.537778    -2.996952   \n",
       "25%      -0.752111    -0.948978    -1.173019    -1.027956    -0.130952   \n",
       "50%       0.302137     0.577251     1.140054     4.101910     0.053302   \n",
       "75%       1.144593     1.763555     3.132791     8.490068     0.208046   \n",
       "max       8.571041    10.362980    14.114149    20.452184     1.869639   \n",
       "\n",
       "          pma20tan     pma50tan    pma200tan         hh10         hl10  \\\n",
       "count  5814.000000  5784.000000  5634.000000  5824.000000  5824.000000   \n",
       "mean      0.026396     0.025582     0.026579     0.536075     0.536075   \n",
       "std       0.224390     0.138288     0.076736     0.162091     0.162091   \n",
       "min      -1.671173    -0.983992    -0.346558     0.000000     0.000000   \n",
       "25%      -0.086768    -0.033540    -0.002142     0.400000     0.400000   \n",
       "50%       0.052864     0.040958     0.041414     0.500000     0.500000   \n",
       "75%       0.160401     0.109845     0.075769     0.600000     0.600000   \n",
       "max       0.986241     0.549137     0.222489     1.000000     1.000000   \n",
       "\n",
       "              nvx1  \n",
       "count  5785.000000  \n",
       "mean      1.040060  \n",
       "std       0.529418  \n",
       "min       0.015866  \n",
       "25%       0.739572  \n",
       "50%       0.944072  \n",
       "75%       1.224154  \n",
       "max      12.385631  "
      ]
     },
     "execution_count": 45,
     "metadata": {},
     "output_type": "execute_result"
    }
   ],
   "source": [
    "df_train.describe()"
   ]
  },
  {
   "cell_type": "code",
   "execution_count": 46,
   "metadata": {
    "collapsed": false
   },
   "outputs": [],
   "source": [
    "def predict(X_train, y_train, X_test):  \n",
    "    from sklearn.cross_validation import train_test_split\n",
    "    from sklearn import cross_validation\n",
    "    from sklearn.linear_model import LogisticRegression\n",
    "    from sklearn.ensemble import RandomForestClassifier, GradientBoostingClassifier\n",
    "    from sklearn.neighbors import KNeighborsClassifier\n",
    "    from sklearn.svm import SVC\n",
    "\n",
    "\n",
    "    #model = LogisticRegression(random_state=1)\n",
    "    \n",
    "    #model = RandomForestClassifier(n_estimators=350)\n",
    "    model = GradientBoostingClassifier(n_estimators=100)\n",
    "    #best so far\n",
    "    #model = KNeighborsClassifier(n_neighbors=15)\n",
    "    \n",
    "    \n",
    "    from sklearn import metrics\n",
    "    \n",
    "    #y_eval_comp = y_eval_pred[:,1] > 0.55\n",
    "    #numpy.count_nonzero(y_eval_comp)\n",
    "    \n",
    "    #print(\"recall:\", metrics.recall_score(y_eval, y_eval_comp, average='binary'))\n",
    "    #print(\"precision:\", metrics.precision_score(y_eval, y_eval_comp, average='binary'))\n",
    "    #print(\"f1 score:\", metrics.f1_score(y_eval, y_eval_comp, average='binary'))\n",
    "    \n",
    "    scores = cross_validation.cross_val_score(model, X_train, y_train, cv=5, scoring='precision')\n",
    "    print(\"Precision score: %0.2f (+/- %0.2f)\" % (scores.mean(), scores.std()))\n",
    "    \n",
    "    model.fit(X_train, y_train)\n",
    "    y_test_pred = model.predict_proba(X_test);\n",
    "    print(y_test_pred)\n",
    "    return\n",
    "\n"
   ]
  },
  {
   "cell_type": "code",
   "execution_count": 47,
   "metadata": {
    "collapsed": false,
    "scrolled": true
   },
   "outputs": [
    {
     "name": "stdout",
     "output_type": "stream",
     "text": [
      "5624\n"
     ]
    }
   ],
   "source": [
    "X_train = df_train.values[200:-10, :]\n",
    "X_test = df_train.values[-10:,:]\n",
    "print(len(X_train))\n",
    "\n"
   ]
  },
  {
   "cell_type": "code",
   "execution_count": 48,
   "metadata": {
    "collapsed": false
   },
   "outputs": [
    {
     "name": "stdout",
     "output_type": "stream",
     "text": [
      "5833 5833\n",
      "5624\n",
      "predict hh\n",
      "Precision score: 0.60 (+/- 0.01)\n",
      "[[ 0.41313654  0.58686346]\n",
      " [ 0.36206505  0.63793495]\n",
      " [ 0.47970183  0.52029817]\n",
      " [ 0.48741931  0.51258069]\n",
      " [ 0.49147902  0.50852098]\n",
      " [ 0.55987391  0.44012609]\n",
      " [ 0.43308458  0.56691542]\n",
      " [ 0.35250935  0.64749065]\n",
      " [ 0.48462682  0.51537318]\n",
      " [ 0.400317    0.599683  ]]\n",
      "predict hl\n",
      "Precision score: 0.61 (+/- 0.02)\n",
      "[[ 0.39430541  0.60569459]\n",
      " [ 0.34052299  0.65947701]\n",
      " [ 0.47874628  0.52125372]\n",
      " [ 0.51053832  0.48946168]\n",
      " [ 0.51909333  0.48090667]\n",
      " [ 0.50930945  0.49069055]\n",
      " [ 0.46160447  0.53839553]\n",
      " [ 0.42602295  0.57397705]\n",
      " [ 0.50878395  0.49121605]\n",
      " [ 0.50011669  0.49988331]]\n"
     ]
    }
   ],
   "source": [
    "#for hh, shift one position back to get future value for hh\n",
    "#print(hh.shift(-1).tail())\n",
    "print(len(hhx1), len(hhx1.shift(-1)))\n",
    "y_train = df_train['hhx1'].shift(-1).values[200:-10].astype(bool)\n",
    "print(len(y_train))\n",
    "print(\"predict hh\")\n",
    "predict(X_train, y_train, X_test)\n",
    "\n",
    "#for hl\n",
    "print(\"predict hl\")\n",
    "y_train = df_train['hlx1'].shift(-1).values[200:-10].astype(bool)\n",
    "predict(X_train, y_train, X_test)"
   ]
  },
  {
   "cell_type": "code",
   "execution_count": 49,
   "metadata": {
    "collapsed": false
   },
   "outputs": [],
   "source": [
    "def e_predict(X_train, y_train, X_test):\n",
    "    from sklearn import cross_validation\n",
    "    from sklearn.linear_model import LogisticRegression\n",
    "    from sklearn.naive_bayes import GaussianNB\n",
    "    from sklearn.ensemble import RandomForestClassifier, GradientBoostingClassifier\n",
    "    from sklearn.neighbors import KNeighborsClassifier\n",
    "    from sklearn.ensemble import VotingClassifier\n",
    "\n",
    "    clf1 = LogisticRegression(random_state=1)\n",
    "    clf2 = RandomForestClassifier(n_estimators=350)\n",
    "    clf3 = GaussianNB()\n",
    "    clf4 = GradientBoostingClassifier(n_estimators=100)\n",
    "    clf5 = KNeighborsClassifier(n_neighbors=15)\n",
    "    \n",
    "    eclf = VotingClassifier(estimators=[('lr', clf1), ('rf', clf2), ('gnb', clf3), \n",
    "                                        ('gb', clf4), ('knn',clf5)], voting='soft')\n",
    "\n",
    "    for clf in [clf1, clf2, clf3, clf4, clf5, eclf]: \n",
    "        print(type(clf).__name__, \"\\n\")\n",
    "        scores = cross_validation.cross_val_score(clf, X_train, y_train, cv=5, scoring='precision')\n",
    "        print(\"Score: %0.2f (+/- %0.2f)\" % (scores.mean(), scores.std()))\n",
    "        clf.fit(X_train, y_train)\n",
    "        y_test_pred = clf.predict_proba(X_test);\n",
    "        print(y_test_pred)\n"
   ]
  },
  {
   "cell_type": "code",
   "execution_count": null,
   "metadata": {
    "collapsed": true
   },
   "outputs": [],
   "source": []
  }
 ],
 "metadata": {
  "kernelspec": {
   "display_name": "Python 3",
   "language": "python",
   "name": "python3"
  },
  "language_info": {
   "codemirror_mode": {
    "name": "ipython",
    "version": 3
   },
   "file_extension": ".py",
   "mimetype": "text/x-python",
   "name": "python",
   "nbconvert_exporter": "python",
   "pygments_lexer": "ipython3",
   "version": "3.5.1"
  }
 },
 "nbformat": 4,
 "nbformat_minor": 0
}
