{
 "cells": [
  {
   "cell_type": "code",
   "execution_count": 17,
   "metadata": {
    "collapsed": false
   },
   "outputs": [
    {
     "name": "stdout",
     "output_type": "stream",
     "text": [
      "2016-03-31 00:00:00 2016-03-30 22:35:22.067734\n"
     ]
    }
   ],
   "source": [
    "from pandas.io import data, wb\n",
    "import datetime\n",
    "import os.path\n",
    "import math\n",
    "import pandas as pd\n",
    "import numpy\n",
    "\n",
    "\n",
    "if (not os.path.isfile('data/spy-ohlc.csv')):\n",
    "    df_train = data.DataReader(\"SPY\", 'yahoo', datetime.datetime(1900, 2, 1), datetime.datetime.now())\n",
    "    df_train.to_csv(\"data/spy-ohlc.csv\")\n",
    "\n",
    "df_train = pd.read_csv('data/spy-ohlc.csv', index_col='Date', parse_dates=True)\n",
    "start = df_train.index[-1] + datetime.timedelta(days=1)\n",
    "print(start, datetime.datetime.now())\n",
    "\n",
    "if(start <= datetime.datetime.now()):\n",
    "    new_data = data.DataReader(\"SPY\", 'yahoo', start, datetime.datetime.now() )\n",
    "    print(new_data)\n",
    "    df_train = df_train.append(new_data)\n",
    "\n",
    "df_train.to_csv(\"data/spy-ohlc.csv\")"
   ]
  }
 ],
 "metadata": {
  "kernelspec": {
   "display_name": "Python 3",
   "language": "python",
   "name": "python3"
  },
  "language_info": {
   "codemirror_mode": {
    "name": "ipython",
    "version": 3
   },
   "file_extension": ".py",
   "mimetype": "text/x-python",
   "name": "python",
   "nbconvert_exporter": "python",
   "pygments_lexer": "ipython3",
   "version": "3.5.1"
  }
 },
 "nbformat": 4,
 "nbformat_minor": 0
}
