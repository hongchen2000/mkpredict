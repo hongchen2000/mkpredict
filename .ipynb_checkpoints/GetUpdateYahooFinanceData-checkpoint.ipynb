{
 "cells": [
  {
   "cell_type": "code",
   "execution_count": 3,
   "metadata": {
    "collapsed": false
   },
   "outputs": [
    {
     "name": "stdout",
     "output_type": "stream",
     "text": [
      "2016-04-02 00:00:00 2016-04-04 22:23:21.855338\n",
      "                  Open        High         Low       Close    Volume  \\\n",
      "Date                                                                   \n",
      "2016-04-04  249.119995  252.119995  243.639999  246.990005  13396500   \n",
      "\n",
      "             Adj Close  \n",
      "Date                    \n",
      "2016-04-04  246.990005  \n"
     ]
    }
   ],
   "source": [
    "from pandas.io import data, wb\n",
    "import datetime\n",
    "import os.path\n",
    "import math\n",
    "import pandas as pd\n",
    "import numpy\n",
    "\n",
    "def update_ohlc(symbol):\n",
    "    if (not os.path.isfile('data/'+symbol+'-ohlc.csv')):\n",
    "        df_train = data.DataReader(symbol, 'yahoo', datetime.datetime(1900, 2, 1), datetime.datetime.now())\n",
    "\n",
    "    else:\n",
    "        df_train = pd.read_csv('data/'+symbol+'-ohlc.csv', index_col='Date', parse_dates=True)\n",
    "        start = df_train.index[-1] + datetime.timedelta(days=1)\n",
    "        print(start, datetime.datetime.now())\n",
    "\n",
    "        if(start <= datetime.datetime.now()):\n",
    "            new_data = data.DataReader(symbol, 'yahoo', start, datetime.datetime.now() )\n",
    "            print(new_data)\n",
    "            df_train = df_train.append(new_data)\n",
    "\n",
    "    df_train.to_csv('data/'+symbol+'-ohlc.csv')\n",
    "    \n",
    "    if (not os.path.isfile('data/'+symbol+'-dividens.csv')):\n",
    "        df_train = data.DataReader(symbol, 'yahoo', datetime.datetime(1900, 2, 1), datetime.datetime.now())\n",
    "#for symbol in ['spy', 'qqq', 'aapl', 'ibm', 'noah', 'lc', 'renn','tsla' ]:\n",
    "for symbol in ['tsla' ]:\n",
    "    update_ohlc(symbol)"
   ]
  },
  {
   "cell_type": "code",
   "execution_count": null,
   "metadata": {
    "collapsed": true
   },
   "outputs": [],
   "source": []
  }
 ],
 "metadata": {
  "kernelspec": {
   "display_name": "Python 3",
   "language": "python",
   "name": "python3"
  },
  "language_info": {
   "codemirror_mode": {
    "name": "ipython",
    "version": 3
   },
   "file_extension": ".py",
   "mimetype": "text/x-python",
   "name": "python",
   "nbconvert_exporter": "python",
   "pygments_lexer": "ipython3",
   "version": "3.5.1"
  }
 },
 "nbformat": 4,
 "nbformat_minor": 0
}
