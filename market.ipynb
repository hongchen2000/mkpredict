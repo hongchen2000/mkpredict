{
 "cells": [
  {
   "cell_type": "code",
   "execution_count": 1,
   "metadata": {
    "collapsed": false,
    "scrolled": true
   },
   "outputs": [],
   "source": [
    "# This Python 3 environment comes with many helpful analytics libraries installed\n",
    "# It is defined by the kaggle/python docker image: https://github.com/kaggle/docker-python\n",
    "# For example, here's several helpful packages to load in \n",
    "from __future__ import division\n",
    "\n",
    "import matplotlib.pyplot as plt\n",
    "import numpy as np\n",
    "import pandas as pd\n",
    "#import xgboost as xgb\n",
    "from sklearn.cross_validation import train_test_split\n",
    "from sklearn.ensemble import RandomForestClassifier\n",
    "from sklearn.metrics import roc_auc_score\n",
    "from sklearn.pipeline import Pipeline\n",
    "from sklearn.svm import OneClassSVM\n",
    "\n",
    "\n",
    "# Any results you write to the current directory are saved as output.\n",
    "\n",
    "# load data\n",
    "df_train = pd.read_csv('spy-train.csv')\n",
    "#df_test = pd.read_csv('test.csv')\n",
    "\n",
    "# remove constant columns\n",
    "#remove = []\n",
    "#for col in df_train.columns:\n",
    "#    if df_train[col].std() == 0:\n",
    "#        remove.append(col)\n",
    "\n",
    "#df_train.drop(remove, axis=1, inplace=True)\n",
    "#df_test.drop(remove, axis=1, inplace=True)\n",
    "\n",
    "# remove duplicated columns\n",
    "#remove = []\n",
    "#c = df_train.columns\n",
    "#for i in range(len(c)-1):\n",
    "#    v = df_train[c[i]].values\n",
    "#    for j in range(i+1,len(c)):\n",
    "#        if np.array_equal(v,df_train[c[j]].values):\n",
    "#            remove.append(c[j])\n",
    "\n",
    "#df_train.drop(remove, axis=1, inplace=True)\n",
    "#df_test.drop(remove, axis=1, inplace=True)\n",
    "\n",
    "\n"
   ]
  },
  {
   "cell_type": "code",
   "execution_count": 123,
   "metadata": {
    "collapsed": false,
    "scrolled": false
   },
   "outputs": [],
   "source": [
    "y_train = df_train['r1-sign'].values\n",
    "y_train = y_train < 0"
   ]
  },
  {
   "cell_type": "code",
   "execution_count": 124,
   "metadata": {
    "collapsed": true
   },
   "outputs": [],
   "source": [
    "remove = ['Date','Open','High','Low','Close','Volume','Adj Close','dividend', \n",
    "          'r-sigma-200','r-ma200','p-ma10','p-ma20','p-ma50','p-ma200','v-200ma','r-1',\n",
    "           'range1-sign','big-short','nrange1','nrange1-big','r1-sign','nr1','nr1-big','nrc2','nrc3','nrc3-big','nrc4',\n",
    "           'nrc5','nrc5-big','nrc10', 'sentiment'  \n",
    "         ]\n",
    "df_sub = df_train.drop(remove, axis=1)\n",
    "X_train = df_sub.values\n",
    "\n",
    "# length of dataset\n",
    "len_train = len(X_train)\n",
    "#len_test  = len(X_test)"
   ]
  },
  {
   "cell_type": "code",
   "execution_count": 125,
   "metadata": {
    "collapsed": true
   },
   "outputs": [],
   "source": [
    "X_fit, X_eval, y_fit, y_eval= train_test_split(X_train, y_train, test_size=0.25)"
   ]
  },
  {
   "cell_type": "code",
   "execution_count": 126,
   "metadata": {
    "collapsed": false,
    "scrolled": false
   },
   "outputs": [],
   "source": [
    "\n",
    "# classifier\n",
    "#clf = xgb.XGBClassifier(missing=np.nan, max_depth=5, n_estimators=350, learning_rate=0.03, nthread=4, subsample=0.95, colsample_bytree=0.85, seed=4242)\n",
    "\n",
    "\n",
    "#clf = OneClassSVM();\n",
    "from sklearn.ensemble import RandomForestClassifier\n",
    "model = RandomForestClassifier(n_estimators=350)\n",
    "#from sklearn.svm import SVC\n",
    "#model = SVC(probability=True)\n",
    "\n",
    "# fitting\n",
    "model.fit(X_fit, y_fit);\n",
    "y_eval_pred = model.predict_proba(X_eval);\n",
    "\n",
    "\n"
   ]
  },
  {
   "cell_type": "code",
   "execution_count": 128,
   "metadata": {
    "collapsed": false,
    "scrolled": false
   },
   "outputs": [
    {
     "name": "stdout",
     "output_type": "stream",
     "text": [
      "[[ 0.57142857  0.42857143]\n",
      " [ 0.62857143  0.37142857]\n",
      " [ 0.62857143  0.37142857]\n",
      " [ 0.50285714  0.49714286]\n",
      " [ 0.57714286  0.42285714]\n",
      " [ 0.67714286  0.32285714]\n",
      " [ 0.66        0.34      ]\n",
      " [ 0.62        0.38      ]\n",
      " [ 0.61428571  0.38571429]\n",
      " [ 0.60285714  0.39714286]\n",
      " [ 0.60571429  0.39428571]\n",
      " [ 0.64285714  0.35714286]\n",
      " [ 0.56857143  0.43142857]\n",
      " [ 0.66        0.34      ]\n",
      " [ 0.61428571  0.38571429]\n",
      " [ 0.65142857  0.34857143]\n",
      " [ 0.62        0.38      ]\n",
      " [ 0.68285714  0.31714286]\n",
      " [ 0.56285714  0.43714286]\n",
      " [ 0.59428571  0.40571429]]\n",
      "[False False  True False  True False False False  True False  True False\n",
      " False  True  True  True  True  True  True False]\n",
      "[False False False False False False False False False False False False\n",
      " False False False False False False False False]\n"
     ]
    },
    {
     "data": {
      "text/plain": [
       "35"
      ]
     },
     "execution_count": 128,
     "metadata": {},
     "output_type": "execute_result"
    }
   ],
   "source": [
    "print(y_eval_pred[0:20,:])\n",
    "print(y_eval[0:20])\n",
    "y_eval_comp = y_eval_pred[:,1] > 0.5\n",
    "print(y_eval_comp[0:20])\n",
    "np.count_nonzero(y_eval_comp)"
   ]
  },
  {
   "cell_type": "code",
   "execution_count": 127,
   "metadata": {
    "collapsed": false,
    "scrolled": true
   },
   "outputs": [
    {
     "name": "stdout",
     "output_type": "stream",
     "text": [
      "Overall AUC: 0.535437453616\n"
     ]
    }
   ],
   "source": [
    "print('Overall AUC:', roc_auc_score(y_eval,y_eval_pred[:,1]))"
   ]
  },
  {
   "cell_type": "code",
   "execution_count": 129,
   "metadata": {
    "collapsed": false
   },
   "outputs": [
    {
     "name": "stdout",
     "output_type": "stream",
     "text": [
      "0.0186567164179\n",
      "0.285714285714\n",
      "0.0350262697023\n"
     ]
    }
   ],
   "source": [
    "from sklearn import metrics\n",
    "\n",
    "print(metrics.recall_score(y_eval, y_eval_comp, average='binary'))\n",
    "print(metrics.precision_score(y_eval, y_eval_comp, average='binary'))\n",
    "print(metrics.f1_score(y_eval, y_eval_comp, average='binary'))"
   ]
  },
  {
   "cell_type": "code",
   "execution_count": null,
   "metadata": {
    "collapsed": true
   },
   "outputs": [],
   "source": []
  },
  {
   "cell_type": "code",
   "execution_count": null,
   "metadata": {
    "collapsed": true
   },
   "outputs": [],
   "source": []
  },
  {
   "cell_type": "code",
   "execution_count": 15,
   "metadata": {
    "collapsed": false
   },
   "outputs": [
    {
     "name": "stdout",
     "output_type": "stream",
     "text": [
      "Completed!\n"
     ]
    }
   ],
   "source": [
    "y_test_pred = model.predict_proba(X_test);\n",
    "submission = pd.DataFrame({\"ID\":id_test, \"TARGET\":y_test_pred[:,1]})\n",
    "submission.to_csv(\"submission.csv\", index=False)\n",
    "\n",
    "print('Completed!')"
   ]
  },
  {
   "cell_type": "code",
   "execution_count": null,
   "metadata": {
    "collapsed": true
   },
   "outputs": [],
   "source": []
  }
 ],
 "metadata": {
  "kernelspec": {
   "display_name": "Python 3",
   "language": "python",
   "name": "python3"
  },
  "language_info": {
   "codemirror_mode": {
    "name": "ipython",
    "version": 3
   },
   "file_extension": ".py",
   "mimetype": "text/x-python",
   "name": "python",
   "nbconvert_exporter": "python",
   "pygments_lexer": "ipython3",
   "version": "3.5.1"
  }
 },
 "nbformat": 4,
 "nbformat_minor": 0
}
