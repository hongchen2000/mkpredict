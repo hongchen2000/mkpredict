{
 "cells": [
  {
   "cell_type": "code",
   "execution_count": 73,
   "metadata": {
    "collapsed": false,
    "scrolled": true
   },
   "outputs": [],
   "source": [
    "# This Python 3 environment comes with many helpful analytics libraries installed\n",
    "# It is defined by the kaggle/python docker image: https://github.com/kaggle/docker-python\n",
    "# For example, here's several helpful packages to load in \n",
    "from __future__ import division\n",
    "\n",
    "import matplotlib.pyplot as plt\n",
    "import numpy as np\n",
    "import pandas as pd\n",
    "#import xgboost as xgb\n",
    "from sklearn.cross_validation import train_test_split\n",
    "from sklearn.ensemble import RandomForestClassifier\n",
    "from sklearn.metrics import roc_auc_score\n",
    "from sklearn.pipeline import Pipeline\n",
    "from sklearn.svm import OneClassSVM\n",
    "\n",
    "\n",
    "# Any results you write to the current directory are saved as output.\n",
    "\n",
    "# load data\n",
    "df_train = pd.read_csv('lc-train.csv')\n",
    "#df_test = pd.read_csv('test.csv')\n",
    "\n",
    "# remove constant columns\n",
    "#remove = []\n",
    "#for col in df_train.columns:\n",
    "#    if df_train[col].std() == 0:\n",
    "#        remove.append(col)\n",
    "\n",
    "#df_train.drop(remove, axis=1, inplace=True)\n",
    "#df_test.drop(remove, axis=1, inplace=True)\n",
    "\n",
    "# remove duplicated columns\n",
    "#remove = []\n",
    "#c = df_train.columns\n",
    "#for i in range(len(c)-1):\n",
    "#    v = df_train[c[i]].values\n",
    "#    for j in range(i+1,len(c)):\n",
    "#        if np.array_equal(v,df_train[c[j]].values):\n",
    "#            remove.append(c[j])\n",
    "\n",
    "#df_train.drop(remove, axis=1, inplace=True)\n",
    "#df_test.drop(remove, axis=1, inplace=True)\n",
    "\n",
    "\n"
   ]
  },
  {
   "cell_type": "code",
   "execution_count": 74,
   "metadata": {
    "collapsed": false,
    "scrolled": false
   },
   "outputs": [],
   "source": [
    "y_train = df_train['hh1'].values\n",
    "y_train = y_train > 0"
   ]
  },
  {
   "cell_type": "code",
   "execution_count": 75,
   "metadata": {
    "collapsed": true
   },
   "outputs": [],
   "source": [
    "remove = ['Date','Open','High','Low','Close','Volume','Adj Close','dividend', \n",
    "          'r-sigma-200','r-ma200','p-ma10','p-ma20','p-ma50','p-ma200','v-200ma',\n",
    "          'r-1','nr-1','nr-2','nr-3','nr-4','nr-5',\n",
    "          'nr-1-open','nr-2-open','nr-3-open','nr-4-open','nr-5-open',\n",
    "          'nr-1-max','nr-2-max','nr-3-max','nr-4-max','nr-5-max',\n",
    "          'nr-1-min','nr-2-min','nr-3-min','nr-4-min','nr-5-min',\n",
    "          'nv-1','nv-2','nv-3','nv-4','nv-5',\n",
    "          'sentiment',\n",
    "          #'ma10-tangent' ,'ma20-tangent' ,'ma50-tangent' ,'ma200-tangent' ,\n",
    "          #'ndiff-ma10','ndiff-ma20','ndiff-ma50','ndiff-ma200',\n",
    "          'dayofweek','weekofyear','dayofmonth','month',\n",
    "          'hh','hl',\n",
    "          #'hh-10','hl-10',\n",
    "          'range1-sign','big-short','nrange1','nrange1-big','r1-sign',\n",
    "          'nr1','nr1-big','nrc2','nrc3','nrc3-big','nrc4','nrc5','nrc5-big','nrc10',\n",
    "          'hh1','hl1'\n",
    "         ]\n",
    "df_sub = df_train.drop(remove, axis=1)\n",
    "X_train = df_sub.values\n",
    "\n",
    "# length of dataset\n",
    "len_train = len(X_train)\n",
    "#len_test  = len(X_test)"
   ]
  },
  {
   "cell_type": "code",
   "execution_count": 76,
   "metadata": {
    "collapsed": true
   },
   "outputs": [],
   "source": [
    "X_fit, X_eval, y_fit, y_eval= train_test_split(X_train, y_train, test_size=0.25)"
   ]
  },
  {
   "cell_type": "code",
   "execution_count": 77,
   "metadata": {
    "collapsed": false,
    "scrolled": false
   },
   "outputs": [],
   "source": [
    "#clf = OneClassSVM();\n",
    "from sklearn.ensemble import RandomForestClassifier\n",
    "model = RandomForestClassifier(n_estimators=350)\n",
    "#from sklearn.svm import SVC\n",
    "#model = SVC(probability=True)\n",
    "\n",
    "# fitting\n",
    "model.fit(X_fit, y_fit);\n",
    "y_eval_pred = model.predict_proba(X_eval);\n",
    "\n",
    "\n"
   ]
  },
  {
   "cell_type": "code",
   "execution_count": 83,
   "metadata": {
    "collapsed": false,
    "scrolled": false
   },
   "outputs": [
    {
     "name": "stdout",
     "output_type": "stream",
     "text": [
      "[[ 0.65428571  0.34571429]\n",
      " [ 0.23714286  0.76285714]\n",
      " [ 0.57142857  0.42857143]\n",
      " [ 0.66285714  0.33714286]\n",
      " [ 0.64857143  0.35142857]\n",
      " [ 0.6         0.4       ]\n",
      " [ 0.64857143  0.35142857]\n",
      " [ 0.56857143  0.43142857]\n",
      " [ 0.36857143  0.63142857]\n",
      " [ 0.67142857  0.32857143]\n",
      " [ 0.76285714  0.23714286]\n",
      " [ 0.52        0.48      ]\n",
      " [ 0.68857143  0.31142857]\n",
      " [ 0.31714286  0.68285714]\n",
      " [ 0.56        0.44      ]\n",
      " [ 0.20571429  0.79428571]\n",
      " [ 0.32571429  0.67428571]\n",
      " [ 0.38285714  0.61714286]\n",
      " [ 0.62        0.38      ]\n",
      " [ 0.58857143  0.41142857]]\n",
      "[False  True  True False  True False False  True False False  True False\n",
      " False  True False False False  True False  True]\n",
      "[False  True  True False False False False  True  True False False  True\n",
      " False  True  True  True  True  True False  True]\n"
     ]
    },
    {
     "data": {
      "text/plain": [
       "44"
      ]
     },
     "execution_count": 83,
     "metadata": {},
     "output_type": "execute_result"
    }
   ],
   "source": [
    "print(y_eval_pred[0:20,:])\n",
    "print(y_eval[0:20])\n",
    "y_eval_comp = y_eval_pred[:,1] > 0.4\n",
    "print(y_eval_comp[0:20])\n",
    "np.count_nonzero(y_eval_comp)"
   ]
  },
  {
   "cell_type": "code",
   "execution_count": 84,
   "metadata": {
    "collapsed": false,
    "scrolled": true
   },
   "outputs": [
    {
     "name": "stdout",
     "output_type": "stream",
     "text": [
      "Overall AUC: 0.468438538206\n"
     ]
    }
   ],
   "source": [
    "print('Overall AUC:', roc_auc_score(y_eval,y_eval_pred[:,1]))"
   ]
  },
  {
   "cell_type": "code",
   "execution_count": 85,
   "metadata": {
    "collapsed": false
   },
   "outputs": [
    {
     "name": "stdout",
     "output_type": "stream",
     "text": [
      "0.571428571429\n",
      "0.454545454545\n",
      "0.506329113924\n"
     ]
    }
   ],
   "source": [
    "from sklearn import metrics\n",
    "\n",
    "print(metrics.recall_score(y_eval, y_eval_comp, average='binary'))\n",
    "print(metrics.precision_score(y_eval, y_eval_comp, average='binary'))\n",
    "print(metrics.f1_score(y_eval, y_eval_comp, average='binary'))"
   ]
  },
  {
   "cell_type": "code",
   "execution_count": null,
   "metadata": {
    "collapsed": true
   },
   "outputs": [],
   "source": []
  },
  {
   "cell_type": "code",
   "execution_count": null,
   "metadata": {
    "collapsed": true
   },
   "outputs": [],
   "source": []
  },
  {
   "cell_type": "code",
   "execution_count": 72,
   "metadata": {
    "collapsed": false
   },
   "outputs": [
    {
     "name": "stdout",
     "output_type": "stream",
     "text": [
      "Completed!\n"
     ]
    }
   ],
   "source": [
    "df_test = pd.read_csv('spy-test.csv')\n",
    "id_test = df_test['Date']\n",
    "df_test = df_test.drop(remove, axis=1)\n",
    "X_test = df_test.values\n",
    "\n",
    "y_test_pred = model.predict_proba(X_test);\n",
    "submission = pd.DataFrame({\"ID\":id_test, \"TARGET\":y_test_pred[:,1]})\n",
    "submission.to_csv(\"submission.csv\", index=False)\n",
    "\n",
    "print('Completed!')"
   ]
  },
  {
   "cell_type": "code",
   "execution_count": null,
   "metadata": {
    "collapsed": true
   },
   "outputs": [],
   "source": []
  }
 ],
 "metadata": {
  "kernelspec": {
   "display_name": "Python 3",
   "language": "python",
   "name": "python3"
  },
  "language_info": {
   "codemirror_mode": {
    "name": "ipython",
    "version": 3
   },
   "file_extension": ".py",
   "mimetype": "text/x-python",
   "name": "python",
   "nbconvert_exporter": "python",
   "pygments_lexer": "ipython3",
   "version": "3.5.1"
  }
 },
 "nbformat": 4,
 "nbformat_minor": 0
}
