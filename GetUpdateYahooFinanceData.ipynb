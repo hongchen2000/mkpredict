{
 "cells": [
  {
   "cell_type": "code",
   "execution_count": 119,
   "metadata": {
    "collapsed": false
   },
   "outputs": [],
   "source": [
    "from pandas.io import data, wb\n",
    "import datetime\n",
    "import os.path\n",
    "import math\n",
    "import pandas as pd\n",
    "import numpy\n",
    "\n",
    "\n",
    "\n",
    "if (not os.path.isfile('data/spy-train.csv')):\n",
    "    start = datetime.datetime(2015, 2, 1)\n",
    "    end = datetime.datetime.now()\n",
    "    df_train = data.DataReader(\"SPY\", 'yahoo', start, end)\n",
    "    df_train.to_csv(\"data/spy-train.csv\")\n",
    "\n",
    "df_train = pd.read_csv('data/spy-train.csv', index_col='Date', parse_dates=True)\n",
    "latestDate = datetime.datetime.now() - datetime.timedelta(days=1)\n",
    "if (df_train.index[-1] < latestDate):\n",
    "    start = df_train.index[-1] + datetime.timedelta(days=1)\n",
    "    new_data = data.DataReader(\"SPY\", 'yahoo', start, latestDate)\n",
    "    df_train.append(new_data)\n",
    "\n",
    "df_train.to_csv(\"data/spy-train.csv\")\n",
    "\n",
    "df_dividends = pd.read_csv('data/spy-dividends.csv', index_col='Date', parse_dates=True)\n",
    "\n",
    "df_train = df_train.join(df_dividends)\n",
    "df_train['dividend'].fillna(0, inplace=True)\n",
    "#print(df_train)"
   ]
  },
  {
   "cell_type": "code",
   "execution_count": 88,
   "metadata": {
    "collapsed": false
   },
   "outputs": [],
   "source": [
    "pma10 = df_train['Close'].rolling(window=10,center=False).mean()\n",
    "pma20 = df_train['Close'].rolling(window=20,center=False).mean()\n",
    "pma50 = df_train['Close'].rolling(window=50,center=False).mean()\n",
    "pma200 = df_train['Close'].rolling(window=200,center=False).mean()\n",
    "\n",
    "df_train = df_train.assign(pma10=pma10)\n",
    "df_train = df_train.assign(pma20=pma20)\n",
    "df_train = df_train.assign(pma50=pma50)\n",
    "df_train = df_train.assign(pma200=pma200)"
   ]
  },
  {
   "cell_type": "code",
   "execution_count": 116,
   "metadata": {
    "collapsed": false
   },
   "outputs": [],
   "source": [
    "diffma10 = (df_train['Close']/df_train['pma10'] -1)*100\n",
    "diffma20 = (df_train['Close']/df_train['pma20'] -1)*100\n",
    "diffma50 = (df_train['Close']/df_train['pma50'] -1)*100\n",
    "diffma200 = (df_train['Close']/df_train['pma200'] -1)*100\n",
    "\n",
    "df_train = df_train.assign(diffma10=diffma10)\n",
    "df_train = df_train.assign(diffma20=diffma20)\n",
    "df_train = df_train.assign(diffma50=diffma50)\n",
    "df_train = df_train.assign(diffma200=diffma200)"
   ]
  },
  {
   "cell_type": "code",
   "execution_count": 111,
   "metadata": {
    "collapsed": false
   },
   "outputs": [],
   "source": [
    "pma10tan = (pma10[1:]/pma10[:-1].values-1)*100\n",
    "pma20tan = (pma20[1:]/pma20[:-1].values-1)*100\n",
    "pma50tan = (pma50[1:]/pma50[:-1].values-1)*100\n",
    "pma200tan = (pma200[1:]/pma200[:-1].values-1)*100\n",
    "\n",
    "df_train = df_train.assign(pma10tan=pma10tan)\n",
    "df_train = df_train.assign(pma20tan=pma20tan)\n",
    "df_train = df_train.assign(pma50tan=pma50tan)\n",
    "df_train = df_train.assign(pma200tan=pma200tan)\n"
   ]
  },
  {
   "cell_type": "code",
   "execution_count": 113,
   "metadata": {
    "collapsed": false,
    "scrolled": true
   },
   "outputs": [],
   "source": [
    "hh = df_train['High'][1:] + df_train['dividend'][1:] > df_train['High'][:-1] \n",
    "hl = df_train['Low'][1:] + df_train['dividend'][1:] > df_train['Low'][:-1] \n",
    "\n",
    "df_train = df_train.assign(hh=hh)\n",
    "df_train = df_train.assign(hl=hl)\n",
    "\n",
    "hh10 = hh.rolling(window=10, center=False).mean()\n",
    "hl10 = hl.rolling(window=10, center=False).mean()\n",
    "\n",
    "df_train = df_train.assign(hh10=hh10)\n",
    "df_train = df_train.assign(hl10=hl10)"
   ]
  },
  {
   "cell_type": "code",
   "execution_count": 117,
   "metadata": {
    "collapsed": false
   },
   "outputs": [],
   "source": [
    "#print(hh10)"
   ]
  }
 ],
 "metadata": {
  "kernelspec": {
   "display_name": "Python 3",
   "language": "python",
   "name": "python3"
  },
  "language_info": {
   "codemirror_mode": {
    "name": "ipython",
    "version": 3
   },
   "file_extension": ".py",
   "mimetype": "text/x-python",
   "name": "python",
   "nbconvert_exporter": "python",
   "pygments_lexer": "ipython3",
   "version": "3.5.1"
  }
 },
 "nbformat": 4,
 "nbformat_minor": 0
}
