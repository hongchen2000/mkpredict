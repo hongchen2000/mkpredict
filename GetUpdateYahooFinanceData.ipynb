{
 "cells": [
  {
   "cell_type": "code",
   "execution_count": 1,
   "metadata": {
    "collapsed": false
   },
   "outputs": [
    {
     "name": "stderr",
     "output_type": "stream",
     "text": [
      "C:\\Anaconda3\\lib\\site-packages\\pandas\\io\\data.py:35: FutureWarning: \n",
      "The pandas.io.data module is moved to a separate package (pandas-datareader) and will be removed from pandas in a future version.\n",
      "After installing the pandas-datareader package (https://github.com/pydata/pandas-datareader), you can change the import ``from pandas.io import data, wb`` to ``from pandas_datareader import data, wb``.\n",
      "  FutureWarning)\n",
      "C:\\Anaconda3\\lib\\site-packages\\pandas\\io\\wb.py:21: FutureWarning: \n",
      "The pandas.io.wb module is moved to a separate package (pandas-datareader) and will be removed from pandas in a future version.\n",
      "After installing the pandas-datareader package (https://github.com/pydata/pandas-datareader), you can change the import ``from pandas.io import data, wb`` to ``from pandas_datareader import data, wb``.\n",
      "  FutureWarning)\n"
     ]
    },
    {
     "name": "stdout",
     "output_type": "stream",
     "text": [
      "2016-03-31 00:00:00 2016-03-31 21:01:19.221771\n",
      "                  Open        High         Low       Close    Volume  \\\n",
      "Date                                                                   \n",
      "2016-03-31  205.910004  206.410004  205.330002  205.520004  87315600   \n",
      "\n",
      "             Adj Close  \n",
      "Date                    \n",
      "2016-03-31  205.520004  \n"
     ]
    }
   ],
   "source": [
    "from pandas.io import data, wb\n",
    "import datetime\n",
    "import os.path\n",
    "import math\n",
    "import pandas as pd\n",
    "import numpy\n",
    "\n",
    "\n",
    "if (not os.path.isfile('data/spy-ohlc.csv')):\n",
    "    df_train = data.DataReader(\"SPY\", 'yahoo', datetime.datetime(1900, 2, 1), datetime.datetime.now())\n",
    "    df_train.to_csv(\"data/spy-ohlc.csv\")\n",
    "\n",
    "df_train = pd.read_csv('data/spy-ohlc.csv', index_col='Date', parse_dates=True)\n",
    "start = df_train.index[-1] + datetime.timedelta(days=1)\n",
    "print(start, datetime.datetime.now())\n",
    "\n",
    "if(start <= datetime.datetime.now()):\n",
    "    new_data = data.DataReader(\"SPY\", 'yahoo', start, datetime.datetime.now() )\n",
    "    print(new_data)\n",
    "    df_train = df_train.append(new_data)\n",
    "\n",
    "df_train.to_csv(\"data/spy-ohlc.csv\")"
   ]
  },
  {
   "cell_type": "code",
   "execution_count": null,
   "metadata": {
    "collapsed": true
   },
   "outputs": [],
   "source": []
  }
 ],
 "metadata": {
  "kernelspec": {
   "display_name": "Python 3",
   "language": "python",
   "name": "python3"
  },
  "language_info": {
   "codemirror_mode": {
    "name": "ipython",
    "version": 3
   },
   "file_extension": ".py",
   "mimetype": "text/x-python",
   "name": "python",
   "nbconvert_exporter": "python",
   "pygments_lexer": "ipython3",
   "version": "3.5.1"
  }
 },
 "nbformat": 4,
 "nbformat_minor": 0
}
