{
 "cells": [
  {
   "cell_type": "code",
   "execution_count": 40,
   "metadata": {
    "collapsed": false,
    "scrolled": false
   },
   "outputs": [],
   "source": [
    "import pandas as pd\n",
    "import numpy as np\n",
    "import matplotlib.pyplot as plt\n",
    "\n",
    "from pandas.io import data, wb\n",
    "import datetime\n",
    "import os.path\n",
    "import math\n",
    "\n",
    "from pandas.tseries.offsets import BDay\n",
    "import talib as ta"
   ]
  },
  {
   "cell_type": "code",
   "execution_count": null,
   "metadata": {
    "collapsed": true
   },
   "outputs": [],
   "source": [
    "def round_2d(price):\n",
    "    return math.ceil(price*100)/100"
   ]
  },
  {
   "cell_type": "code",
   "execution_count": 41,
   "metadata": {
    "collapsed": false
   },
   "outputs": [],
   "source": [
    "symbol = 'SPY'\n",
    "df_train = pd.read_csv('data/'+symbol+'-ohlc.csv', index_col='Date', parse_dates=True)\n",
    "if (os.path.isfile('data/'+symbol+'-dividends.csv')):\n",
    "    df_dividends = pd.read_csv('data/'+symbol+'-dividends.csv', index_col='Date', parse_dates=True)\n",
    "    df_train = df_train.join(df_dividends)\n",
    "    df_train['Dividends'].fillna(0, inplace=True)\n",
    "else:\n",
    "    df_train['Dividends']=0"
   ]
  },
  {
   "cell_type": "code",
   "execution_count": 42,
   "metadata": {
    "collapsed": false
   },
   "outputs": [],
   "source": [
    "df_train['symbol'] = symbol\n",
    "\n",
    "high = df_train['High'].values\n",
    "low = df_train['Low'].values\n",
    "close = df_train['Close'].values    \n",
    "atr = ta.ATR(high, low, close, timeperiod=10)\n",
    "        \n",
    "\n",
    "pma5 = df_train['Close'].rolling(window=5,center=False).mean()\n",
    "pma20 = df_train['Close'].rolling(window=20,center=False).mean()\n",
    "pma50 = df_train['Close'].rolling(window=50,center=False).mean()\n",
    "pma200 = df_train['Close'].rolling(window=200,center=False).mean() \n",
    "\n",
    "prev_day_open_norm = df_train['Open'] - df_train['Open']\n",
    "prev_day_high_norm = (df_train['High'] - df_train['Open'])/atr\n",
    "prev_day_low_norm = (df_train['Low'] - df_train['Open'])/atr\n",
    "prev_day_close_norm = (df_train['Close'] - df_train['Open'])/atr\n",
    "\n",
    "vma100 = df_train['Volume'].rolling(window=100, center=False).mean()\n",
    "prev_day_vol_norm = df_train['Volume']/vma100\n",
    "\n",
    "df_train = df_train.assign(atr=atr)\n",
    "df_train = df_train.assign(pma5=pma5)\n",
    "df_train = df_train.assign(pma20=pma20)\n",
    "df_train = df_train.assign(pma50=pma50)\n",
    "df_train = df_train.assign(pma200=pma200)\n",
    "\n",
    "df_train = df_train.assign(prev_day_open_norm=prev_day_open_norm)\n",
    "df_train = df_train.assign(prev_day_high_norm=prev_day_high_norm)\n",
    "df_train = df_train.assign(prev_day_low_norm=prev_day_low_norm)\n",
    "df_train = df_train.assign(prev_day_close_norm=prev_day_close_norm)\n",
    "df_train = df_train.assign(prev_day_vol_norm=prev_day_vol_norm)\n",
    "\n",
    "\n",
    "df_train.rename(columns = {'Close':'prev_day_close'}, inplace = True)\n",
    "    \n",
    "df_train.index = df_train.index + BDay(1)\n",
    "df_train.to_csv('binary-SPY.txt')"
   ]
  },
  {
   "cell_type": "code",
   "execution_count": null,
   "metadata": {
    "collapsed": true
   },
   "outputs": [],
   "source": []
  }
 ],
 "metadata": {
  "kernelspec": {
   "display_name": "Python 3",
   "language": "python",
   "name": "python3"
  },
  "language_info": {
   "codemirror_mode": {
    "name": "ipython",
    "version": 3
   },
   "file_extension": ".py",
   "mimetype": "text/x-python",
   "name": "python",
   "nbconvert_exporter": "python",
   "pygments_lexer": "ipython3",
   "version": "3.5.1"
  }
 },
 "nbformat": 4,
 "nbformat_minor": 0
}
