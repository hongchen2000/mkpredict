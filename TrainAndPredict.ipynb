{
 "cells": [
  {
   "cell_type": "code",
   "execution_count": 119,
   "metadata": {
    "collapsed": false,
    "scrolled": true
   },
   "outputs": [],
   "source": [
    "from pandas.io import data, wb\n",
    "import datetime\n",
    "import os.path\n",
    "import math\n",
    "import pandas as pd\n",
    "import numpy\n",
    "\n",
    "\n"
   ]
  },
  {
   "cell_type": "code",
   "execution_count": 120,
   "metadata": {
    "collapsed": false
   },
   "outputs": [],
   "source": [
    "df_train = pd.read_csv('data/spy-ohlc.csv', index_col='Date', parse_dates=True)\n",
    "df_dividends = pd.read_csv('data/spy-dividends.csv', index_col='Date', parse_dates=True)\n",
    "df_train = df_train.join(df_dividends)\n",
    "df_train['dividend'].fillna(0, inplace=True)"
   ]
  },
  {
   "cell_type": "code",
   "execution_count": 121,
   "metadata": {
    "collapsed": false
   },
   "outputs": [],
   "source": [
    "pma10 = df_train['Close'].rolling(window=10,center=False).mean() + df_train['dividend'].rolling(window=10, center=False).mean()\n",
    "pma20 = df_train['Close'].rolling(window=20,center=False).mean()+ df_train['dividend'].rolling(window=20, center=False).mean()\n",
    "pma50 = df_train['Close'].rolling(window=50,center=False).mean()+ df_train['dividend'].rolling(window=50, center=False).mean()\n",
    "pma200 = df_train['Close'].rolling(window=200,center=False).mean()+ df_train['dividend'].rolling(window=200, center=False).mean()\n",
    "vma50 = df_train['Volume'].rolling(window=50, center=False).mean()\n",
    "\n"
   ]
  },
  {
   "cell_type": "code",
   "execution_count": 122,
   "metadata": {
    "collapsed": false
   },
   "outputs": [],
   "source": [
    "#distance from MAs\n",
    "diffma10  = (df_train['Close']/pma10 -1)*100\n",
    "diffma20 = (df_train['Close']/pma20 -1)*100\n",
    "diffma50 = (df_train['Close']/pma50 -1)*100\n",
    "diffma200 = (df_train['Close']/pma200 -1)*100\n",
    "\n",
    "#tangential of ma lines\n",
    "pma10tan = (pma10[1:]/pma10[:-1].values-1)*100\n",
    "pma20tan = (pma20[1:]/pma20[:-1].values-1)*100\n",
    "pma50tan = (pma50[1:]/pma50[:-1].values-1)*100\n",
    "pma200tan = (pma200[1:]/pma200[:-1].values-1)*100\n",
    "\n",
    "#sequence of higher high/higher low\n",
    "hhx1 = df_train['High'][1:] + df_train['dividend'][1:] > df_train['High'][:-1] \n",
    "hlx1 = df_train['Low'][1:] + df_train['dividend'][1:] > df_train['Low'][:-1] \n",
    "hhx2 = hh.shift(1)\n",
    "hhx3 = hh.shift(2)\n",
    "hlx2 = hl.shift(1)\n",
    "hlx3 = hl.shift(2)\n",
    "\n",
    "#rolling average of hh and hl\n",
    "hh10 = hh.rolling(window=10, center=False).mean()\n",
    "hl10 = hl.rolling(window=10, center=False).mean()\n",
    "\n",
    "nvx1 = df_train['Volume']/vma50\n"
   ]
  },
  {
   "cell_type": "code",
   "execution_count": 123,
   "metadata": {
    "collapsed": false,
    "scrolled": true
   },
   "outputs": [],
   "source": [
    "#add features for training data\n",
    "\n",
    "#distance from MAs\n",
    "df_train = df_train.assign(diffma10=diffma10)\n",
    "df_train = df_train.assign(diffma20=diffma20)\n",
    "df_train = df_train.assign(diffma50=diffma50)\n",
    "df_train = df_train.assign(diffma200=diffma200)\n",
    "\n",
    "#tangential of ma lines\n",
    "df_train = df_train.assign(pma10tan=pma10tan)\n",
    "df_train = df_train.assign(pma20tan=pma20tan)\n",
    "df_train = df_train.assign(pma50tan=pma50tan)\n",
    "df_train = df_train.assign(pma200tan=pma200tan)\n",
    "\n",
    "df_train = df_train.assign(hhx1=hhx1)\n",
    "df_train = df_train.assign(hlx1=hlx1)\n",
    "df_train = df_train.assign(hhx2=hhx2)\n",
    "df_train = df_train.assign(hhx3=hhx3)\n",
    "df_train = df_train.assign(hlx2=hlx2)\n",
    "df_train = df_train.assign(hlx3=hlx3)\n",
    "\n",
    "df_train = df_train.assign(hh10=hh10)\n",
    "df_train = df_train.assign(hl10=hl10)\n",
    "\n",
    "#last day volume\n",
    "df_train = df_train.assign(nvx1=nvx1)"
   ]
  },
  {
   "cell_type": "code",
   "execution_count": 124,
   "metadata": {
    "collapsed": false
   },
   "outputs": [],
   "source": [
    "remove = ['Open','High','Low','Close','Volume','Adj Close','dividend']\n",
    "df_train.drop(remove, axis=1)\n",
    "df_train.to_csv(\"data/spy-train.csv\")"
   ]
  },
  {
   "cell_type": "code",
   "execution_count": 130,
   "metadata": {
    "collapsed": false
   },
   "outputs": [],
   "source": [
    "def predict(X_train, y_train, X_test):  \n",
    "    from sklearn.cross_validation import train_test_split\n",
    "    from sklearn import cross_validation\n",
    "    from sklearn.linear_model import LogisticRegression\n",
    "    from sklearn.ensemble import RandomForestClassifier, GradientBoostingClassifier\n",
    "    from sklearn.neighbors import KNeighborsClassifier\n",
    "    from sklearn.svm import SVC\n",
    "\n",
    "\n",
    "    #model = LogisticRegression(random_state=1)\n",
    "    \n",
    "    #model = RandomForestClassifier(n_estimators=350)\n",
    "    #model = GradientBoostingClassifier(n_estimators=100)\n",
    "    #best so far\n",
    "    model = KNeighborsClassifier(n_neighbors=15)\n",
    "    \n",
    "    \n",
    "    from sklearn import metrics\n",
    "    \n",
    "    #y_eval_comp = y_eval_pred[:,1] > 0.55\n",
    "    #numpy.count_nonzero(y_eval_comp)\n",
    "    \n",
    "    #print(\"recall:\", metrics.recall_score(y_eval, y_eval_comp, average='binary'))\n",
    "    #print(\"precision:\", metrics.precision_score(y_eval, y_eval_comp, average='binary'))\n",
    "    #print(\"f1 score:\", metrics.f1_score(y_eval, y_eval_comp, average='binary'))\n",
    "    \n",
    "    scores = cross_validation.cross_val_score(model, X_train, y_train, cv=5, scoring='precision')\n",
    "    print(\"Precision score: %0.2f (+/- %0.2f)\" % (scores.mean(), scores.std()))\n",
    "    \n",
    "    model.fit(X_train, y_train)\n",
    "    y_test_pred = model.predict_proba(X_test);\n",
    "    print(y_test_pred)\n",
    "    return\n",
    "\n"
   ]
  },
  {
   "cell_type": "code",
   "execution_count": 142,
   "metadata": {
    "collapsed": false,
    "scrolled": true
   },
   "outputs": [
    {
     "name": "stdout",
     "output_type": "stream",
     "text": [
      "predict hh\n"
     ]
    },
    {
     "ename": "AttributeError",
     "evalue": "'LogisticRegression' object has no attribute '__name__'",
     "output_type": "error",
     "traceback": [
      "\u001b[1;31m---------------------------------------------------------------------------\u001b[0m",
      "\u001b[1;31mAttributeError\u001b[0m                            Traceback (most recent call last)",
      "\u001b[1;32m<ipython-input-142-cedd2b9e42f2>\u001b[0m in \u001b[0;36m<module>\u001b[1;34m()\u001b[0m\n\u001b[0;32m      7\u001b[0m \u001b[1;31m#print(len(y_train))\u001b[0m\u001b[1;33m\u001b[0m\u001b[1;33m\u001b[0m\u001b[0m\n\u001b[0;32m      8\u001b[0m \u001b[0mprint\u001b[0m\u001b[1;33m(\u001b[0m\u001b[1;34m\"predict hh\"\u001b[0m\u001b[1;33m)\u001b[0m\u001b[1;33m\u001b[0m\u001b[0m\n\u001b[1;32m----> 9\u001b[1;33m \u001b[0me_predict\u001b[0m\u001b[1;33m(\u001b[0m\u001b[0mX_train\u001b[0m\u001b[1;33m,\u001b[0m \u001b[0my_train\u001b[0m\u001b[1;33m,\u001b[0m \u001b[0mX_test\u001b[0m\u001b[1;33m)\u001b[0m\u001b[1;33m\u001b[0m\u001b[0m\n\u001b[0m\u001b[0;32m     10\u001b[0m \u001b[1;33m\u001b[0m\u001b[0m\n\u001b[0;32m     11\u001b[0m \u001b[1;31m#for hl\u001b[0m\u001b[1;33m\u001b[0m\u001b[1;33m\u001b[0m\u001b[0m\n",
      "\u001b[1;32m<ipython-input-141-cdf8d39ccd47>\u001b[0m in \u001b[0;36me_predict\u001b[1;34m(X_train, y_train, X_test)\u001b[0m\n\u001b[0;32m     18\u001b[0m     for clf, label in zip([clf1, clf2, clf3, clf4, clf5, eclf], \n\u001b[0;32m     19\u001b[0m                           ['Logistic Regression', 'Random Forest','GaussianNB', 'Gradient Boosting','KNN', 'Ensemble']):\n\u001b[1;32m---> 20\u001b[1;33m         \u001b[0mprint\u001b[0m\u001b[1;33m(\u001b[0m\u001b[0mclf\u001b[0m\u001b[1;33m.\u001b[0m\u001b[0m__name__\u001b[0m\u001b[1;33m)\u001b[0m\u001b[1;33m\u001b[0m\u001b[0m\n\u001b[0m\u001b[0;32m     21\u001b[0m         \u001b[0mscores\u001b[0m \u001b[1;33m=\u001b[0m \u001b[0mcross_validation\u001b[0m\u001b[1;33m.\u001b[0m\u001b[0mcross_val_score\u001b[0m\u001b[1;33m(\u001b[0m\u001b[0mclf\u001b[0m\u001b[1;33m,\u001b[0m \u001b[0mX_train\u001b[0m\u001b[1;33m,\u001b[0m \u001b[0my_train\u001b[0m\u001b[1;33m,\u001b[0m \u001b[0mcv\u001b[0m\u001b[1;33m=\u001b[0m\u001b[1;36m5\u001b[0m\u001b[1;33m,\u001b[0m \u001b[0mscoring\u001b[0m\u001b[1;33m=\u001b[0m\u001b[1;34m'precision'\u001b[0m\u001b[1;33m)\u001b[0m\u001b[1;33m\u001b[0m\u001b[0m\n\u001b[0;32m     22\u001b[0m         \u001b[0mprint\u001b[0m\u001b[1;33m(\u001b[0m\u001b[1;34m\"Score: %0.2f (+/- %0.2f) [%s]\"\u001b[0m \u001b[1;33m%\u001b[0m \u001b[1;33m(\u001b[0m\u001b[0mscores\u001b[0m\u001b[1;33m.\u001b[0m\u001b[0mmean\u001b[0m\u001b[1;33m(\u001b[0m\u001b[1;33m)\u001b[0m\u001b[1;33m,\u001b[0m \u001b[0mscores\u001b[0m\u001b[1;33m.\u001b[0m\u001b[0mstd\u001b[0m\u001b[1;33m(\u001b[0m\u001b[1;33m)\u001b[0m\u001b[1;33m,\u001b[0m \u001b[0mlabel\u001b[0m\u001b[1;33m)\u001b[0m\u001b[1;33m)\u001b[0m\u001b[1;33m\u001b[0m\u001b[0m\n",
      "\u001b[1;31mAttributeError\u001b[0m: 'LogisticRegression' object has no attribute '__name__'"
     ]
    }
   ],
   "source": [
    "X_train = df_train.values[201:-1, :]\n",
    "X_test = X_train[-1:,:]\n",
    "#print(len(X_train))\n",
    "#for hh, shift one position back to get future value for hh\n",
    "#print(hh.shift(-1).tail())\n",
    "y_train = hh.shift(-1).values[201:].astype(bool)\n",
    "#print(len(y_train))\n",
    "print(\"predict hh\")\n",
    "e_predict(X_train, y_train, X_test)\n",
    "\n",
    "#for hl\n",
    "print(\"predict hl\")\n",
    "y_train = hl.shift(-1).values[201:].astype(bool)\n",
    "e_predict(X_train, y_train, X_test)\n"
   ]
  },
  {
   "cell_type": "code",
   "execution_count": 156,
   "metadata": {
    "collapsed": false
   },
   "outputs": [
    {
     "ename": "SyntaxError",
     "evalue": "invalid syntax (<ipython-input-156-139913d05a52>, line 18)",
     "output_type": "error",
     "traceback": [
      "\u001b[1;36m  File \u001b[1;32m\"<ipython-input-156-139913d05a52>\"\u001b[1;36m, line \u001b[1;32m18\u001b[0m\n\u001b[1;33m    for clf in list[clf1, clf2, clf3, clf4, clf5, eclf]:                         :\u001b[0m\n\u001b[1;37m                                                                                 ^\u001b[0m\n\u001b[1;31mSyntaxError\u001b[0m\u001b[1;31m:\u001b[0m invalid syntax\n"
     ]
    }
   ],
   "source": [
    "def e_predict(X_train, y_train, X_test):\n",
    "    from sklearn import cross_validation\n",
    "    from sklearn.linear_model import LogisticRegression\n",
    "    from sklearn.naive_bayes import GaussianNB\n",
    "    from sklearn.ensemble import RandomForestClassifier, GradientBoostingClassifier\n",
    "    from sklearn.neighbors import KNeighborsClassifier\n",
    "    from sklearn.ensemble import VotingClassifier\n",
    "\n",
    "    clf1 = LogisticRegression(random_state=1)\n",
    "    clf2 = RandomForestClassifier(n_estimators=350)\n",
    "    clf3 = GaussianNB()\n",
    "    clf4 = GradientBoostingClassifier(n_estimators=100)\n",
    "    clf5 = KNeighborsClassifier(n_neighbors=15)\n",
    "    \n",
    "    eclf = VotingClassifier(estimators=[('lr', clf1), ('rf', clf2), ('gnb', clf3), \n",
    "                                        ('gb', clf4), ('knn',clf5)], voting='soft')\n",
    "\n",
    "    for clf in list[clf1, clf2, clf3, clf4, clf5, eclf]:                         :\n",
    "        print(type(clf).__name__)\n",
    "        scores = cross_validation.cross_val_score(clf, X_train, y_train, cv=5, scoring='precision')\n",
    "        print(\"Score: %0.2f (+/- %0.2f)\" % (scores.mean(), scores.std())\n",
    "        clf.fit(X_train, y_train)\n",
    "        y_test_pred = clf.predict_proba(X_test);\n",
    "        print(y_test_pred)\n",
    "\n",
    "\n",
    "    return\n"
   ]
  },
  {
   "cell_type": "code",
   "execution_count": 152,
   "metadata": {
    "collapsed": false
   },
   "outputs": [
    {
     "name": "stdout",
     "output_type": "stream",
     "text": [
      "LogisticRegression\n"
     ]
    }
   ],
   "source": [
    "from sklearn.linear_model import LogisticRegression\n",
    "clf1 = LogisticRegression(random_state=1)\n",
    "na = type(clf1).__name__\n",
    "print(na)\n",
    "    "
   ]
  }
 ],
 "metadata": {
  "kernelspec": {
   "display_name": "Python 3",
   "language": "python",
   "name": "python3"
  },
  "language_info": {
   "codemirror_mode": {
    "name": "ipython",
    "version": 3
   },
   "file_extension": ".py",
   "mimetype": "text/x-python",
   "name": "python",
   "nbconvert_exporter": "python",
   "pygments_lexer": "ipython3",
   "version": "3.5.1"
  }
 },
 "nbformat": 4,
 "nbformat_minor": 0
}
