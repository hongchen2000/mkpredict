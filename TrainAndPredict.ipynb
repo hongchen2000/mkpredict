{
 "cells": [
  {
   "cell_type": "code",
   "execution_count": 73,
   "metadata": {
    "collapsed": false,
    "scrolled": true
   },
   "outputs": [],
   "source": [
    "from pandas.io import data, wb\n",
    "import datetime\n",
    "import os.path\n",
    "import math\n",
    "import pandas as pd\n",
    "import numpy\n",
    "\n",
    "\n"
   ]
  },
  {
   "cell_type": "code",
   "execution_count": 74,
   "metadata": {
    "collapsed": false
   },
   "outputs": [],
   "source": [
    "df_train = pd.read_csv('data/spy-ohlc.csv', index_col='Date', parse_dates=True)\n",
    "df_dividends = pd.read_csv('data/spy-dividends.csv', index_col='Date', parse_dates=True)\n",
    "df_train = df_train.join(df_dividends)\n",
    "df_train['dividend'].fillna(0, inplace=True)"
   ]
  },
  {
   "cell_type": "code",
   "execution_count": 75,
   "metadata": {
    "collapsed": false
   },
   "outputs": [],
   "source": [
    "pma10 = df_train['Close'].rolling(window=10,center=False).mean() + df_train['dividend'].rolling(window=10, center=False).mean()\n",
    "pma20 = df_train['Close'].rolling(window=20,center=False).mean()+ df_train['dividend'].rolling(window=20, center=False).mean()\n",
    "pma50 = df_train['Close'].rolling(window=50,center=False).mean()+ df_train['dividend'].rolling(window=50, center=False).mean()\n",
    "pma200 = df_train['Close'].rolling(window=200,center=False).mean()+ df_train['dividend'].rolling(window=200, center=False).mean()\n",
    "\n",
    "df_train = df_train.assign(pma10=pma10)\n",
    "df_train = df_train.assign(pma20=pma20)\n",
    "df_train = df_train.assign(pma50=pma50)\n",
    "df_train = df_train.assign(pma200=pma200)"
   ]
  },
  {
   "cell_type": "code",
   "execution_count": 76,
   "metadata": {
    "collapsed": false
   },
   "outputs": [],
   "source": [
    "diffma10 = (df_train['Close']/df_train['pma10'] -1)*100\n",
    "diffma20 = (df_train['Close']/df_train['pma20'] -1)*100\n",
    "diffma50 = (df_train['Close']/df_train['pma50'] -1)*100\n",
    "diffma200 = (df_train['Close']/df_train['pma200'] -1)*100\n",
    "\n",
    "df_train = df_train.assign(diffma10=diffma10)\n",
    "df_train = df_train.assign(diffma20=diffma20)\n",
    "df_train = df_train.assign(diffma50=diffma50)\n",
    "df_train = df_train.assign(diffma200=diffma200)"
   ]
  },
  {
   "cell_type": "code",
   "execution_count": 77,
   "metadata": {
    "collapsed": false
   },
   "outputs": [],
   "source": [
    "pma10tan = (pma10[1:]/pma10[:-1].values-1)*100\n",
    "pma20tan = (pma20[1:]/pma20[:-1].values-1)*100\n",
    "pma50tan = (pma50[1:]/pma50[:-1].values-1)*100\n",
    "pma200tan = (pma200[1:]/pma200[:-1].values-1)*100\n",
    "\n",
    "df_train = df_train.assign(pma10tan=pma10tan)\n",
    "df_train = df_train.assign(pma20tan=pma20tan)\n",
    "df_train = df_train.assign(pma50tan=pma50tan)\n",
    "df_train = df_train.assign(pma200tan=pma200tan)\n"
   ]
  },
  {
   "cell_type": "code",
   "execution_count": 90,
   "metadata": {
    "collapsed": false,
    "scrolled": true
   },
   "outputs": [],
   "source": [
    "hh = df_train['High'][1:] + df_train['dividend'][1:] > df_train['High'][:-1] \n",
    "hl = df_train['Low'][1:] + df_train['dividend'][1:] > df_train['Low'][:-1] \n",
    "\n",
    "df_train = df_train.assign(hh=hh)\n",
    "df_train = df_train.assign(hl=hl)\n",
    "df_train = df_train.assign(hh1=hh.shift(-1))\n",
    "df_train = df_train.assign(hl1=hl.shift(-1))\n",
    "\n",
    "hh10 = hh.rolling(window=10, center=False).mean()\n",
    "hl10 = hl.rolling(window=10, center=False).mean()\n",
    "\n",
    "df_train = df_train.assign(hh10=hh10)\n",
    "df_train = df_train.assign(hl10=hl10)"
   ]
  },
  {
   "cell_type": "code",
   "execution_count": 84,
   "metadata": {
    "collapsed": false
   },
   "outputs": [],
   "source": [
    "df_train.to_csv(\"data/spy-train.csv\")"
   ]
  },
  {
   "cell_type": "code",
   "execution_count": 107,
   "metadata": {
    "collapsed": false
   },
   "outputs": [
    {
     "name": "stdout",
     "output_type": "stream",
     "text": [
      "               hh     hl\n",
      "Date                    \n",
      "2016-03-15  False  False\n",
      "2016-03-16   True   True\n",
      "2016-03-17   True   True\n",
      "2016-03-18   True   True\n",
      "2016-03-21   True  False\n",
      "2016-03-22   True  False\n",
      "2016-03-23  False  False\n",
      "2016-03-24  False  False\n",
      "2016-03-28   True   True\n",
      "2016-03-29   True  False\n"
     ]
    }
   ],
   "source": [
    "print(df_train[['hh','hl']].tail(10))\n",
    "#print(hl.tail())"
   ]
  },
  {
   "cell_type": "code",
   "execution_count": 80,
   "metadata": {
    "collapsed": false,
    "scrolled": true
   },
   "outputs": [],
   "source": [
    "#print(df_train.columns)"
   ]
  },
  {
   "cell_type": "code",
   "execution_count": 81,
   "metadata": {
    "collapsed": false
   },
   "outputs": [],
   "source": [
    "#df_train.describe(include='all')"
   ]
  },
  {
   "cell_type": "code",
   "execution_count": 117,
   "metadata": {
    "collapsed": false
   },
   "outputs": [],
   "source": [
    "remove = ['Open','High','Low','Close','Volume','Adj Close','dividend', \n",
    "          'pma10','pma20','pma50','pma200',\n",
    "          #diffma10,diffma20,diffma50,diffma200,\n",
    "          #pma10tan,pma20tan,pma50tan,pma200tan,\n",
    "          #'hh-10','hl-10'\n",
    "          'hh','hl', 'hh1', 'hl1'\n",
    "         ]\n",
    "X_train = df_train.drop(remove, axis=1).values[201:-10, :]\n",
    "X_test = X_train[-10:,:]\n",
    "X_train = X_train[:-1, :]\n",
    "#print(X_train)\n",
    "\n"
   ]
  },
  {
   "cell_type": "code",
   "execution_count": 236,
   "metadata": {
    "collapsed": false
   },
   "outputs": [
    {
     "name": "stdout",
     "output_type": "stream",
     "text": [
      "Overall AUC: 0.539655200495\n",
      "recall: 0.378627968338\n",
      "precision: 0.599164926931\n",
      "f1 score: 0.464025869038\n",
      "[[ 0.47193957  0.52806043]\n",
      " [ 0.47922778  0.52077222]\n",
      " [ 0.4770505   0.5229495 ]\n",
      " [ 0.47562275  0.52437725]\n",
      " [ 0.48221529  0.51778471]\n",
      " [ 0.47840191  0.52159809]\n",
      " [ 0.4882473   0.5117527 ]\n",
      " [ 0.48481634  0.51518366]\n",
      " [ 0.51157943  0.48842057]\n",
      " [ 0.5049012   0.4950988 ]]\n",
      "Overall AUC: 0.511707026883\n",
      "recall: 0.335031847134\n",
      "precision: 0.563169164882\n",
      "f1 score: 0.420127795527\n",
      "[[ 0.52478726  0.47521274]\n",
      " [ 0.52078817  0.47921183]\n",
      " [ 0.51469247  0.48530753]\n",
      " [ 0.50781706  0.49218294]\n",
      " [ 0.51079455  0.48920545]\n",
      " [ 0.49880221  0.50119779]\n",
      " [ 0.5090933   0.4909067 ]\n",
      " [ 0.49616122  0.50383878]\n",
      " [ 0.52422731  0.47577269]\n",
      " [ 0.51685876  0.48314124]]\n"
     ]
    }
   ],
   "source": [
    "y_train = hh.shift(-1).values[201:-10].astype(bool)\n",
    "predict(X_train, y_train, X_test)\n",
    "\n",
    "y_train = hl.shift(-1).values[201:-10].astype(bool)\n",
    "predict(X_train, y_train, X_test)\n"
   ]
  },
  {
   "cell_type": "code",
   "execution_count": 210,
   "metadata": {
    "collapsed": false
   },
   "outputs": [],
   "source": []
  },
  {
   "cell_type": "code",
   "execution_count": 231,
   "metadata": {
    "collapsed": false
   },
   "outputs": [],
   "source": [
    "def predict(X_train, y_train, X_test):  \n",
    "    from sklearn.cross_validation import train_test_split\n",
    "    from sklearn.linear_model import LogisticRegression\n",
    "    from sklearn.ensemble import RandomForestClassifier, GradientBoostingClassifier\n",
    "    from sklearn.neighbors import KNeighborsClassifier\n",
    "    from sklearn.svm import SVC\n",
    "\n",
    "    model = LogisticRegression(random_state=1)\n",
    "    #model = RandomForestClassifier(n_estimators=350)\n",
    "    #model = GradientBoostingClassifier(n_estimators=100)\n",
    "    #best so far\n",
    "    #model = KNeighborsClassifier(n_neighbors=15)\n",
    "    \n",
    "    # fitting\n",
    "    X_fit, X_eval, y_fit, y_eval= train_test_split(X_train, y_train, test_size=0.25)\n",
    "    model.fit(X_fit, y_fit);\n",
    "    y_eval_pred = model.predict_proba(X_eval);\n",
    "    \n",
    "    from sklearn.metrics import roc_auc_score\n",
    "    print('Overall AUC:', roc_auc_score(y_eval,y_eval_pred[:,1]))\n",
    "    \n",
    "    from sklearn import metrics\n",
    "    \n",
    "    y_eval_comp = y_eval_pred[:,1] > 0.55\n",
    "    numpy.count_nonzero(y_eval_comp)\n",
    "    \n",
    "    print(\"recall:\", metrics.recall_score(y_eval, y_eval_comp, average='binary'))\n",
    "    print(\"precision:\", metrics.precision_score(y_eval, y_eval_comp, average='binary'))\n",
    "    print(\"f1 score:\", metrics.f1_score(y_eval, y_eval_comp, average='binary'))\n",
    "    \n",
    "    y_test_pred = model.predict_proba(X_test);\n",
    "    print(y_test_pred)\n",
    "    return\n",
    "\n"
   ]
  },
  {
   "cell_type": "code",
   "execution_count": 227,
   "metadata": {
    "collapsed": false
   },
   "outputs": [],
   "source": [
    "def e_predict(X_train, y_train, X_test):\n",
    "    from sklearn import cross_validation\n",
    "    from sklearn.linear_model import LogisticRegression\n",
    "    from sklearn.naive_bayes import GaussianNB\n",
    "    from sklearn.ensemble import RandomForestClassifier\n",
    "    from sklearn.ensemble import VotingClassifier\n",
    "\n",
    "    clf1 = LogisticRegression(random_state=1)\n",
    "    #clf2 = RandomForestClassifier(random_state=1)\n",
    "    #clf3 = GaussianNB()\n",
    "    clf2 = RandomForestClassifier(n_estimators=350)\n",
    "    clf3 = GradientBoostingClassifier(n_estimators=100)\n",
    "    #clf4 = KNeighborsClassifier(n_neighbors=15)\n",
    "    \n",
    "    eclf = VotingClassifier(estimators=[('lr', clf1), ('rf', clf2), ('gb', clf3)], voting='hard')\n",
    "\n",
    "    for clf, label in zip([clf1, clf2, clf3, eclf], ['Logistic Regression', 'Random Forest', 'Gradient Boosting', 'Ensemble']):\n",
    "        scores = cross_validation.cross_val_score(clf, X_train, y_train, cv=5, scoring='accuracy')\n",
    "        print(\"Accuracy: %0.2f (+/- %0.2f) [%s]\" % (scores.mean(), scores.std(), label))\n",
    "\n",
    "\n",
    "    return\n"
   ]
  },
  {
   "cell_type": "code",
   "execution_count": null,
   "metadata": {
    "collapsed": true
   },
   "outputs": [],
   "source": []
  }
 ],
 "metadata": {
  "kernelspec": {
   "display_name": "Python 3",
   "language": "python",
   "name": "python3"
  },
  "language_info": {
   "codemirror_mode": {
    "name": "ipython",
    "version": 3
   },
   "file_extension": ".py",
   "mimetype": "text/x-python",
   "name": "python",
   "nbconvert_exporter": "python",
   "pygments_lexer": "ipython3",
   "version": "3.5.1"
  }
 },
 "nbformat": 4,
 "nbformat_minor": 0
}
