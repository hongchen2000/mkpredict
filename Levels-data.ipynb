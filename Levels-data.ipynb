{
 "cells": [
  {
   "cell_type": "code",
   "execution_count": 5,
   "metadata": {
    "collapsed": true
   },
   "outputs": [],
   "source": [
    "import urllib.request\n",
    "import re\n",
    "import pandas as pd\n",
    "import datetime\n",
    "from pandas.tseries.offsets import BDay"
   ]
  },
  {
   "cell_type": "code",
   "execution_count": 6,
   "metadata": {
    "collapsed": true
   },
   "outputs": [],
   "source": [
    "def get_support_resistance(symbol):\n",
    "    url = 'http://www.stockta.com/cgi-bin/analysis.pl?symb={0}&cobrand=&mode=stock'.format(symbol)\n",
    "    \n",
    "    support = (0, 0)\n",
    "    resistance = (0, 0)\n",
    "    with urllib.request.urlopen(url) as f:\n",
    "        contend = f.read().decode('iso-8859-1')\n",
    "        price = float((re.findall(r'Close=([\\d.]+) Volume=', contend))[0])\n",
    "        \n",
    "        print(price)\n",
    "        match = re.search(r'&support=(.*)&', contend)\n",
    "        if match:\n",
    "            levels_str = re.findall(r'([\\d.]+),([\\d.]+)', match.group())\n",
    "            levels_num = [(float(t[0]), int(t[1])) for t in levels_str]\n",
    "            supports = [x for x in levels_num if x[0] < price and x[1] >= 5 ]\n",
    "            if supports:                \n",
    "                support =  sorted(supports).pop()\n",
    "            resistances = [x for x in levels_num if x[0] > price and x[1] >=5]\n",
    "            if resistances:\n",
    "                resistance = sorted(resistances)[0]\n",
    "            \n",
    "    return price, support, resistance"
   ]
  },
  {
   "cell_type": "code",
   "execution_count": 7,
   "metadata": {
    "collapsed": true
   },
   "outputs": [],
   "source": [
    "def calculate_atr(sym, period=10):\n",
    "    \n",
    "    high = df_train['High'].values\n",
    "    low = df_train['Low'].values\n",
    "    close = df_train['Close'].values\n",
    "    \n",
    "    atr = ta.ATR(high, low, close, period)[-1]\n",
    "    return atr"
   ]
  },
  {
   "cell_type": "code",
   "execution_count": 8,
   "metadata": {
    "collapsed": false
   },
   "outputs": [
    {
     "name": "stdout",
     "output_type": "stream",
     "text": [
      "167.07\n",
      "39.28\n",
      "60.92\n",
      "112.49\n",
      "33.66\n",
      "92.88\n",
      "41.97\n",
      "154.14\n",
      "11.03\n",
      "112.02\n",
      "68.7\n",
      "168.95\n",
      "40.31\n",
      "processing completed\n"
     ]
    }
   ],
   "source": [
    "f = open('sp500-tickers.txt', 'r')\n",
    "symbols = f.read().split()\n",
    "\n",
    "next_bday = datetime.date.today()  + BDay(1)\n",
    "index = 0\n",
    "level_max_distance = 1.03\n",
    "\n",
    "df_levels = pd.DataFrame(columns=['Date','symbol','support', 'sup_count','resistance', 'res_count'])\n",
    "for sym in symbols:\n",
    "    try:\n",
    "        price, support, resistance = get_support_resistance(sym)\n",
    "        #output only if support or resistance exist and less than 5 percent away from current price\n",
    "        if (support[0] >0 and support[1] >= 10 and price/support[0] < level_max_distance) \\\n",
    "            or (resistance[0] >0 and resistance[1] >= 10 and resistance[0]/price < level_max_distance): \n",
    "            df_levels.loc[index] = [next_bday.strftime('%Y-%m-%d'), sym, support[0], support[1], resistance[0], resistance[1]]\n",
    "            index = index+1\n",
    "    except Exception:\n",
    "        pass\n",
    "df_levels.to_csv('sup-res-levels.txt')\n",
    "print(\"processing completed\")\n",
    "\n"
   ]
  }
 ],
 "metadata": {
  "kernelspec": {
   "display_name": "Python 3",
   "language": "python",
   "name": "python3"
  },
  "language_info": {
   "codemirror_mode": {
    "name": "ipython",
    "version": 3
   },
   "file_extension": ".py",
   "mimetype": "text/x-python",
   "name": "python",
   "nbconvert_exporter": "python",
   "pygments_lexer": "ipython3",
   "version": "3.5.1"
  }
 },
 "nbformat": 4,
 "nbformat_minor": 0
}
