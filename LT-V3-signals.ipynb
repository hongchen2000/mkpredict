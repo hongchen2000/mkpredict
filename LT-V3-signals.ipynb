{
 "cells": [
  {
   "cell_type": "code",
   "execution_count": 49,
   "metadata": {
    "collapsed": false
   },
   "outputs": [],
   "source": [
    "import urllib.request\n",
    "import re\n",
    "import pandas as pd\n",
    "import datetime\n",
    "from pandas.tseries.offsets import BDay\n",
    "\n",
    "from pandas.io import data, wb\n",
    "import os.path\n",
    "import math\n",
    "import numpy\n",
    "\n",
    "import talib as ta"
   ]
  },
  {
   "cell_type": "code",
   "execution_count": 50,
   "metadata": {
    "collapsed": true
   },
   "outputs": [],
   "source": [
    "def get_support_resistance(symbol):\n",
    "    url = 'http://www.stockta.com/cgi-bin/analysis.pl?symb={0}&cobrand=&mode=stock'.format(symbol)\n",
    "    \n",
    "    support = (0, 0)\n",
    "    resistance = (0, 0)\n",
    "    with urllib.request.urlopen(url) as f:\n",
    "        contend = f.read().decode('iso-8859-1')\n",
    "       \n",
    "        match = re.search(r'&support=(.*)&', contend)\n",
    "        if match:\n",
    "            levels_str = re.findall(r'([\\d.]+),([\\d.]+)', match.group())\n",
    "            levels_num = [(float(t[0]), int(t[1])) for t in levels_str]\n",
    "            supports = [x for x in levels_num if x[0] < price and x[1] >= 5 ]\n",
    "            if supports:                \n",
    "                support =  sorted(supports).pop()\n",
    "            resistances = [x for x in levels_num if x[0] > price and x[1] >=5]\n",
    "            if resistances:\n",
    "                resistance = sorted(resistances)[0]\n",
    "            \n",
    "    return support, resistance"
   ]
  },
  {
   "cell_type": "code",
   "execution_count": 51,
   "metadata": {
    "collapsed": true
   },
   "outputs": [],
   "source": [
    "def update_ohlc(symbol):\n",
    "    \n",
    "    today = datetime.datetime.today()\n",
    "    \n",
    "    #update ohlc data\n",
    "    if (not os.path.isfile('data/'+symbol+'-ohlc.csv')):\n",
    "        df_train = data.DataReader(symbol, 'yahoo', datetime.datetime(1900, 2, 1), today)\n",
    "\n",
    "    else:\n",
    "        df_train = pd.read_csv('data/'+symbol+'-ohlc.csv', index_col='Date', parse_dates=True)\n",
    "        start = df_train.index[-1] + datetime.timedelta(days=1)\n",
    "        print(start,today)\n",
    "\n",
    "        if(start <= today):\n",
    "            new_data = data.DataReader(symbol, 'yahoo', start, today )\n",
    "            print(new_data)\n",
    "            df_train = df_train.append(new_data)\n",
    "\n",
    "    df_train.to_csv('data/'+symbol+'-ohlc.csv')\n",
    "    \n",
    "    #update dividends info\n",
    "    filename_dividends = 'data/'+symbol+'-dividends.csv'\n",
    "\n",
    "    \n",
    "    url_temp = 'http://ichart.yahoo.com/table.csv?s={s}&c={c}&a={a}&b={b}&f={f}&d={d}&e={e}&g=v&ignore=.csv'\n",
    "    #if (not os.path.isfile(filename_dividends)): #create new dividend file\n",
    "    url = url_temp.format(s=symbol, a='1', b='1', c='1980',d=today.month, e=today.day, f=today.year)\n",
    "    print(url)\n",
    "    df_dividends = pd.read_csv(url, index_col=0, parse_dates=[0])\n",
    "    if len(df_dividends) > 0:        \n",
    "        #sort to ascending order, match that of ohlc\n",
    "        df_dividends.sort_index(inplace=True)\n",
    "        df_dividends.to_csv(filename_dividends) "
   ]
  },
  {
   "cell_type": "code",
   "execution_count": 52,
   "metadata": {
    "collapsed": true
   },
   "outputs": [],
   "source": [
    "def get_more_info(sym, atr_period=10):\n",
    "    \n",
    "    update_ohlc(sym)\n",
    "    df_train = pd.read_csv('data/'+sym+'-ohlc.csv', index_col='Date', parse_dates=True)\n",
    "    if (os.path.isfile('data/'+sym+'-dividends.csv')):\n",
    "        df_dividends = pd.read_csv('data/'+sym+'-dividends.csv', index_col='Date', parse_dates=True)\n",
    "        df_train = df_train.join(df_dividends)\n",
    "        df_train['Dividends'].fillna(0, inplace=True)\n",
    "    else:\n",
    "        df_train['Dividends']=0\n",
    "        \n",
    "    high = df_train['High'].values\n",
    "    low = df_train['Low'].values\n",
    "    close = df_train['Close'].values\n",
    "    \n",
    "    atr = round_2d(ta.ATR(high, low, close, atr_period)[-1])\n",
    "    prev_close = round_2d(close[-1])\n",
    "    print(prev_close, atr)\n",
    "    return prev_close, atr"
   ]
  },
  {
   "cell_type": "code",
   "execution_count": 53,
   "metadata": {
    "collapsed": true
   },
   "outputs": [],
   "source": [
    "def round_2d(price):\n",
    "    return math.ceil(price*100)/100"
   ]
  },
  {
   "cell_type": "code",
   "execution_count": 54,
   "metadata": {
    "collapsed": false,
    "scrolled": true
   },
   "outputs": [
    {
     "name": "stdout",
     "output_type": "stream",
     "text": [
      "(110.84, 13) (114.32, 6)\n",
      "2016-04-30 00:00:00 2016-05-02 12:20:05.455145\n",
      "Empty DataFrame\n",
      "Columns: [Open, High, Low, Close, Volume, Adj Close]\n",
      "Index: []\n",
      "http://ichart.yahoo.com/table.csv?s=AET&c=1980&a=1&b=1&f=2016&d=5&e=2&g=v&ignore=.csv\n",
      "112.27 2.14\n",
      "processing completed\n"
     ]
    }
   ],
   "source": [
    "f = open('sp500-tickers-test.txt', 'r')\n",
    "symbols = f.read().split()\n",
    "\n",
    "next_bday = datetime.date.today()  + BDay(1)\n",
    "next_bday_str = next_bday.strftime('%Y-%m-%d')\n",
    "\n",
    "index = 0\n",
    "level_max_distance = 1.1\n",
    "\n",
    "df_levels = pd.DataFrame(columns=['Date','symbol','support', 'sup_li','resistance', 'res_li','prev_day_close','atr'])\n",
    "for sym in symbols:\n",
    "    try:\n",
    "        support, resistance = get_support_resistance(sym)\n",
    "        print(support, resistance)\n",
    "        #output only if support or resistance exist and less than 5 percent away from current price\n",
    "        if (support[0] >0 and support[1] >= 10 ) or (resistance[0] >0 and resistance[1] >= 10): \n",
    "            prev_close, atr = get_more_info(sym)\n",
    "            if prev_close/support[0] < level_max_distance or resistance[0]/prev_close < level_max_distance:\n",
    "                df_levels.loc[index] = [next_bday_str, sym, support[0], support[1], resistance[0], resistance[1], prev_close, atr]\n",
    "                index = index+1\n",
    "    except Exception as e:\n",
    "        print(str(e))\n",
    "\n",
    "df_levels.to_csv('sup-res-levels.txt')\n",
    "df_levels.to_csv('sup-res-levels-'+next_bday_str+'.txt')\n",
    "print(\"processing completed\")\n",
    "\n"
   ]
  }
 ],
 "metadata": {
  "kernelspec": {
   "display_name": "Python 3",
   "language": "python",
   "name": "python3"
  },
  "language_info": {
   "codemirror_mode": {
    "name": "ipython",
    "version": 3
   },
   "file_extension": ".py",
   "mimetype": "text/x-python",
   "name": "python",
   "nbconvert_exporter": "python",
   "pygments_lexer": "ipython3",
   "version": "3.5.1"
  }
 },
 "nbformat": 4,
 "nbformat_minor": 0
}
