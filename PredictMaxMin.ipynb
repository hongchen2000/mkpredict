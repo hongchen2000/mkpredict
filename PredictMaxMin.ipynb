{
 "cells": [
  {
   "cell_type": "code",
   "execution_count": 709,
   "metadata": {
    "collapsed": false,
    "scrolled": true
   },
   "outputs": [],
   "source": [
    "import pandas as pd\n",
    "import numpy as np\n",
    "import matplotlib.pyplot as plt\n",
    "\n",
    "from pandas.io import data, wb\n",
    "import datetime\n",
    "import os.path\n",
    "import math\n",
    "\n",
    "from sklearn.cross_validation import train_test_split\n",
    "from sklearn import cross_validation\n",
    "from sklearn.linear_model import LogisticRegression\n",
    "from sklearn.ensemble import RandomForestRegressor, GradientBoostingClassifier, AdaBoostClassifier\n",
    "from sklearn.neighbors import KNeighborsClassifier, KNeighborsRegressor\n",
    "from sklearn.svm import SVC\n",
    "from sklearn import linear_model\n",
    "\n",
    "from sklearn import cross_validation\n",
    "from sklearn.naive_bayes import GaussianNB\n",
    "from sklearn.ensemble import VotingClassifier\n",
    "\n",
    "from sklearn import metrics\n",
    "    \n",
    "from sklearn.externals import joblib\n",
    "\n",
    "import talib as ta\n",
    "from pandas.tseries.offsets import BDay\n",
    "\n",
    "import urllib.request\n",
    "import re\n"
   ]
  },
  {
   "cell_type": "code",
   "execution_count": 710,
   "metadata": {
    "collapsed": false
   },
   "outputs": [],
   "source": [
    "def predict(symbol, period=10):\n",
    "    df_train = pd.read_csv('data/'+symbol+'-ohlc.csv', index_col='Date', parse_dates=True)\n",
    "    if (os.path.isfile('data/'+symbol+'-dividends.csv')):\n",
    "        df_dividends = pd.read_csv('data/'+symbol+'-dividends.csv', index_col='Date', parse_dates=True)\n",
    "        df_train = df_train.join(df_dividends)\n",
    "        df_train['Dividends'].fillna(0, inplace=True)\n",
    "    else:\n",
    "        df_train['Dividends']=0\n",
    "        \n",
    "\n",
    "    #features: \n",
    "    \n",
    "    #distance from MAs\n",
    "    pma10 = df_train['Close'].rolling(window=10).mean() + df_train['Dividends'].rolling(\n",
    "        window=10).mean()\n",
    "    pma20 = df_train['Close'].rolling(window=20).mean() + df_train['Dividends'].rolling(\n",
    "        window=20).mean()\n",
    "    pma50 = df_train['Close'].rolling(window=50).mean() + df_train['Dividends'].rolling(\n",
    "        window=50).mean()\n",
    "    pma200 = df_train['Close'].rolling(window=200).mean() + df_train['Dividends'].rolling(\n",
    "        window=200).mean()\n",
    "    \n",
    "    diffma10  = (df_train['Close']/pma10 -1)*100\n",
    "    diffma20 = (df_train['Close']/pma20 -1)*100\n",
    "    diffma50 = (df_train['Close']/pma50 -1)*100\n",
    "    diffma200 = (df_train['Close']/pma200 -1)*100\n",
    "    \n",
    "    #volume\n",
    "    vma100 = df_train['Volume'].rolling(window=100).mean()\n",
    "    vma = df_train['Volume'].rolling(window=period).mean()/vma100\n",
    "    \n",
    "    #min, max range lookback\n",
    "    atr = ta.ATR(df_train['High'].values, df_train['Low'].values, df_train['Close'].values, timeperiod=10)\n",
    "    rmax = (df_train['High'].rolling(window=period).max()-df_train['Close'])/atr\n",
    "    rmin = (df_train['High'].rolling(window=period).min()-df_train['Close'])/atr\n",
    "     \n",
    "    \n",
    "    \n",
    "    #add features for training data\n",
    "    df_train = df_train.assign(diffma10=diffma10)\n",
    "    df_train = df_train.assign(diffma20=diffma20)\n",
    "    df_train = df_train.assign(diffma50=diffma50)\n",
    "    df_train = df_train.assign(diffma200=diffma200)\n",
    "\n",
    "    df_train = df_train.assign(vma=vma)\n",
    "    df_train = df_train.assign(rmax=rmax)\n",
    "    df_train = df_train.assign(rmin=rmin)\n",
    "    \n",
    "    p_rmax = rmax.shift(-period)\n",
    "    p_rmin = rmin.shift(-period)\n",
    "    df_train = df_train.assign(p_rmax=p_rmax)\n",
    "    df_train = df_train.assign(p_rmin=p_rmin)\n",
    "\n",
    "    \n",
    "    df_train.to_csv('data/'+symbol+'-train.csv')\n",
    "    remove = ['Open','High','Low','Close','Volume','Adj Close','Dividends','p_rmax', 'p_rmin']\n",
    "    df_train = df_train.drop(remove, axis=1)\n",
    "    \n",
    "    #df_train.describe()\n",
    "    #df_train.corr()\n",
    "    \n",
    "    X_train = df_train.values[200:-(200+period), :]\n",
    "    X_test = df_train.values[-(200+period):,:]\n",
    "    rowCount = len(X_train)\n",
    "    \n",
    "    #for hh, shift one position back to get future value for hh\n",
    "    y_train = df_train['rmax'].shift(-period).values[200:-(200+period)]\n",
    "    model, score  = train(X_train, y_train)\n",
    "    y_test_pred = model.predict(X_test);\n",
    "    y_actual = df_train['rmax'].shift(-period).values[-(200+period):]\n",
    "    r2 = model.score(X_test[:-period], y_actual[:-period])\n",
    "    print('out of sample R2=',r2)\n",
    "    \n",
    "    diff = pd.Series(y_actual[:-period]) - pd.Series(y_test_pred[:-period])\n",
    "    diff.plot(kind='bar')\n",
    "    plt.show()\n",
    "    \n",
    "    '''\n",
    "    #for hl\n",
    "    y_train = df_train['hl'].shift(-1).values[200:-11].astype(bool)        \n",
    "    model, hl_score = train(X_train, y_train)\n",
    "    #save_model('hl', symbol)\n",
    "    y_test_pred = model.predict_proba(X_test);\n",
    "    prob_hl = y_test_pred[-1,1]\n",
    "    #predict score on the most recent 10 period(out of sample test)\n",
    "    recent_hl_score = sum(df_train['hl'].values[-10:].astype(bool) == (y_test_pred[:, 1]>0.5)[:10])\n",
    "    \n",
    "    pdate = df_train.index[-1] + BDay(1)\n",
    "    '''\n",
    "    return 3, 3\n"
   ]
  },
  {
   "cell_type": "code",
   "execution_count": 711,
   "metadata": {
    "collapsed": true
   },
   "outputs": [],
   "source": [
    "def save_model(target, symbol):\n",
    "    model_dir = 'models/predict-'+target+'-'+symbol\n",
    "    if not os.path.exists(model_dir):\n",
    "        os.makedirs(model_dir)\n",
    "    joblib.dump(model, f_name) "
   ]
  },
  {
   "cell_type": "code",
   "execution_count": 712,
   "metadata": {
    "collapsed": false
   },
   "outputs": [],
   "source": [
    "def train(X_train, y_train):  \n",
    "\n",
    "    model = RandomForestRegressor(n_estimators=350)  \n",
    "    #model = KNeighborsRegressor(n_neighbors=6) #6 is best for gold: r2 = 0.12\n",
    "    #model = linear_model.BayesianRidge()\n",
    "    #model = linear_model.SGDRegressor()\n",
    "    \n",
    "    \n",
    "    \n",
    "    \n",
    "    \n",
    "    #model = AdaBoostClassifier(n_estimators=100)\n",
    "    #model = LogisticRegression(random_state=1)\n",
    "    #model = GradientBoostingClassifier(n_estimators=300)\n",
    "    #model = KNeighborsClassifier(n_neighbors=15)\n",
    "    \n",
    "    model.fit(X_train, y_train)\n",
    "    sc = model.score(X_train, y_train)\n",
    "    print('in sample R2 =', sc)\n",
    "    \n",
    "    #print(model.feature_importances_)\n",
    "    return model, 1\n",
    "\n"
   ]
  },
  {
   "cell_type": "code",
   "execution_count": 713,
   "metadata": {
    "collapsed": true
   },
   "outputs": [],
   "source": [
    "def get_type(prob_hh, prob_hl):\n",
    "    ptype = '4..'\n",
    "    if(prob_hh > 0.5):\n",
    "        if(prob_hl < 0.5 ):\n",
    "            ptype = '1**'\n",
    "        else:\n",
    "            ptype = '2++'\n",
    "    else:\n",
    "        if(prob_hl < 0.5):\n",
    "            ptype = '3--'\n",
    "            \n",
    "    return ptype"
   ]
  },
  {
   "cell_type": "code",
   "execution_count": 714,
   "metadata": {
    "collapsed": true
   },
   "outputs": [],
   "source": [
    "def get_signal(prob_hh, prob_hl):\n",
    "    signal = 2\n",
    "    if(prob_hh > 0.5):\n",
    "        if(prob_hl > 0.5 ):\n",
    "            signal = 1\n",
    "        else:\n",
    "            signal = 0\n",
    "    else: #\n",
    "        if(prob_hl < 0.5):\n",
    "            signal = -1\n",
    "            \n",
    "    return signal"
   ]
  },
  {
   "cell_type": "code",
   "execution_count": 715,
   "metadata": {
    "collapsed": false,
    "scrolled": true
   },
   "outputs": [
    {
     "name": "stdout",
     "output_type": "stream",
     "text": [
      "\n",
      "predicting SPY\n",
      "in sample R2 = 0.913323504995\n",
      "out of sample R2= -0.214412212601\n",
      "3 3\n"
     ]
    }
   ],
   "source": [
    "#symbols = ['SPY', 'QQQ','IWM', 'EEM', 'AAPL', 'GOOG', 'XOM', 'FB', 'JNJ','GE',  'AMZN','WFC', 'T', 'PG', 'WMT', 'JPM', \n",
    "#           'VZ', 'KO', 'PFE',  'V', 'HD', 'CVX', 'DIS', 'INTC', 'IBM', 'GS','DVA', 'MO', 'GILD', 'TSLA']\n",
    "symbols = ['SPY']\n",
    "params = ['atr', 'high','low', 'prob_hh','prob_hl', 'hh_score', 'hl_score','rhh_score', 'rhl_score', 'rowCount', \n",
    "          'pdate', 'score_diff','rrange','ptype', 'support', 'support_count', 'resistance', 'resis_count']\n",
    "df_predicts = pd.DataFrame(columns=params, index=symbols)\n",
    "df_signals = pd.DataFrame(columns=['Date','symbol','signal','atr','prev_high', 'prev_low','prev_close', \n",
    "                                   'support', 'supp_count','resistance', 'resis_count'])\n",
    "index = 0\n",
    "for symbol in symbols:\n",
    "    symbol = symbol.upper()\n",
    "    print('\\npredicting ' + symbol)\n",
    "    r_max, r_min = predict(symbol, 20)\n",
    "    print(r_max,r_min)\n",
    "    '''\n",
    "    ptype = get_type(prob_hh, prob_hl)\n",
    "    df_predicts.loc[symbol] = ('%.2f' % round(atr, 2), '%.2f' % round(adjhigh, 2) , '%.2f' % round(adjlow, 2), \n",
    "                               '%.2f' % round(prob_hh, 2) , '%.2f' % round(prob_hl, 2), hh_score, hl_score, recent_hh_score, \n",
    "                               recent_hl_score, rowCount, pdateStr, '%.2f' % round(prob_hh - prob_hl, 2), \n",
    "                               '%.2f' % round(atr/(adjhigh-adjlow), 2), ptype, \n",
    "                               support[0], support[1], resistance[0], resistance[1])\n",
    "    print(symbol, atr,  adjhigh, adjlow, 'hh=%.2f' % round(prob_hh, 2), 'hl=%.2f' % round(prob_hl, 2), \n",
    "          hh_score, hl_score, recent_hh_score, recent_hl_score, rowCount, pdateStr, ptype)\n",
    "\n",
    "    df_signals.loc[index] = [pdateStr, symbol, get_signal(prob_hh, prob_hl), '%.2f' % round(atr, 2), \n",
    "                             adjhigh, adjlow, adjclose, support[0], support[1], resistance[0], resistance[1]]\n",
    "    index = index+1\n",
    "\n",
    "\n",
    "#df_predicts.sort(['ptype', 'rrange']).to_csv('predictions-'+pdateStr+'.csv')\n",
    "df_signals.to_csv('signal-today.txt')\n",
    "print(\"Prediction for \"+pdateStr+\" completed.\")\n",
    "    '''"
   ]
  },
  {
   "cell_type": "code",
   "execution_count": null,
   "metadata": {
    "collapsed": true
   },
   "outputs": [],
   "source": [
    "\n",
    "    "
   ]
  }
 ],
 "metadata": {
  "kernelspec": {
   "display_name": "Python 3",
   "language": "python",
   "name": "python3"
  },
  "language_info": {
   "codemirror_mode": {
    "name": "ipython",
    "version": 3
   },
   "file_extension": ".py",
   "mimetype": "text/x-python",
   "name": "python",
   "nbconvert_exporter": "python",
   "pygments_lexer": "ipython3",
   "version": "3.5.1"
  }
 },
 "nbformat": 4,
 "nbformat_minor": 0
}
